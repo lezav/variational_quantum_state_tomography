{
 "cells": [
  {
   "cell_type": "code",
   "execution_count": 1,
   "metadata": {
    "execution": {
     "iopub.execute_input": "2021-02-26T16:50:21.526077Z",
     "iopub.status.busy": "2021-02-26T16:50:21.524084Z",
     "iopub.status.idle": "2021-02-26T16:50:24.895438Z",
     "shell.execute_reply": "2021-02-26T16:50:24.894441Z",
     "shell.execute_reply.started": "2021-02-26T16:50:21.526077Z"
    }
   },
   "outputs": [],
   "source": [
    "import pennylane as qml    \n",
    "from pennylane import numpy as np    "
   ]
  },
  {
   "cell_type": "code",
   "execution_count": 2,
   "metadata": {
    "execution": {
     "iopub.execute_input": "2021-02-26T16:50:32.240031Z",
     "iopub.status.busy": "2021-02-26T16:50:32.240031Z",
     "iopub.status.idle": "2021-02-26T16:50:32.250975Z",
     "shell.execute_reply": "2021-02-26T16:50:32.249978Z",
     "shell.execute_reply.started": "2021-02-26T16:50:32.240031Z"
    }
   },
   "outputs": [],
   "source": [
    "class SPSA:\n",
    "    \"\"\"\n",
    "    Simultaneous perturbation stochastic approximation optimization method\n",
    "    \"\"\"\n",
    "    \n",
    "    def __init__( self, a=3 , c=0.01, A=0, α=0.602 , γ=0.101):\n",
    "        self._a = a\n",
    "        self._c = c\n",
    "        self._A = A\n",
    "        self._α = α\n",
    "        self._γ = γ\n",
    "        \n",
    "    def step( self, function, θ, k ):\n",
    "        \n",
    "        ak = self._a/(k+self._A+1)**self._α, \n",
    "        ck = self._c/(k+1)**self._γ\n",
    "                \n",
    "        Δ  = 2*np.round( np.random.rand(θ.size).reshape(θ.shape) )-1\n",
    "        \n",
    "        θ_plus  = θ + ck*Δ\n",
    "        θ_minus = θ - ck*Δ   \n",
    "        \n",
    "        function_plus  = function( θ_plus )  \n",
    "        function_minus = function( θ_minus )  \n",
    "        \n",
    "        ghat = np.divide( function_plus-function_minus, 2*ck*Δ + 1e-8 )\n",
    "        \n",
    "        return θ - ak*ghat "
   ]
  },
  {
   "cell_type": "code",
   "execution_count": null,
   "metadata": {},
   "outputs": [],
   "source": [
    "def VQT( circuit_state, circuit_variational, parameters, max_iterations, device, optimizator=SPSA() ):\n",
    "    \"\"\"\n",
    "    Variational Quantum Tomography\n",
    "    \"\"\"\n",
    "    @qml.qnode(device)\n",
    "    def Fidelity(params):\n",
    "        n_wires = device.num_wires\n",
    "        circuit_state( n_wires )\n",
    "        circuit_variational(params, n_wires)\n",
    "        return qml.probs(wires=range(n_wires))\n",
    "    \n",
    "    infidelities   = []\n",
    "    parameters_out = []\n",
    "    objective      = lambda params : 1 - Fidelity(params)[0]\n",
    "    \n",
    "    for n in range(max_iterations):\n",
    "        parameters = optimizator.step( objective, parameters, n )\n",
    "        infidelities.append( objective(parameters) )\n",
    "        parameters_out.append(parameters)\n",
    "    \n",
    "    return parameters_out, infidelities\n"
   ]
  }
 ],
 "metadata": {
  "kernelspec": {
   "display_name": "Python 3",
   "language": "python",
   "name": "python3"
  },
  "language_info": {
   "codemirror_mode": {
    "name": "ipython",
    "version": 3
   },
   "file_extension": ".py",
   "mimetype": "text/x-python",
   "name": "python",
   "nbconvert_exporter": "python",
   "pygments_lexer": "ipython3",
   "version": "3.7.7"
  }
 },
 "nbformat": 4,
 "nbformat_minor": 4
}

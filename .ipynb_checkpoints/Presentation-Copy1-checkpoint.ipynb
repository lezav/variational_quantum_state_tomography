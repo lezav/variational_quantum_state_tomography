{
 "cells": [
  {
   "cell_type": "markdown",
   "metadata": {},
   "source": [
    "# Variational Quantum State Tomography using pennylane"
   ]
  },
  {
   "cell_type": "markdown",
   "metadata": {},
   "source": [
    "Variational methods have a wide range of application in optimization and machine learning. However, they can also be used to study quantum computers. Currently, we are in an era where quantum computers present a large amount of noise due to the low number of qubits (<100) and the low fidelity of the gates. In this era, known as the noisy intermediate-scale quantum (NISQ), characterizing how quantum devices work is critical, since they allow us to understand and improve the available quantum devices. One way to achieve this is through quantum tomography. This consists of protocols that allow obtaining the quantum state of a system, which can be a prior unknown. In this notebook we will implement a variational tomographic method for pure quantum states, based on https://arxiv.org/abs/1406.4101. We start with an introduction to the problem of estimating quantum states, then we explain the method and its optimization algorithm and we finish with the implementation of the problem using pennylane. "
   ]
  },
  {
   "cell_type": "markdown",
   "metadata": {},
   "source": [
    "## Quantum state tomography"
   ]
  },
  {
   "cell_type": "markdown",
   "metadata": {},
   "source": [
    "The most general way to represent a quantum state is through a semi-definite positive and trace one matrix known as density operator\n",
    "\n",
    "$$\n",
    "\\rho = \\frac{1}{2^n}\\sum_{j_1,\\dots,j_n} S_{j_1,\\dots,j_n} \\sigma_{j_1}\\otimes\\cdots\\otimes\\sigma_{j_n},\n",
    "$$\n",
    "\n",
    "where $\\{S_{j_1,\\dots,j_n} \\}$ are real parameters and $\\{\\sigma_{j}\\}$ are the Pauli matrices. The aim of quantum tomography methods is to obtain the parameters $\\{S_{j_1,\\dots,j_n} \\}$. This can be achieved by measuring $3^n-1$ observables given by tensor products of the Pauli matrices \n",
    "\n",
    "$$\n",
    "S_{j_1,\\dots,j_n} =  \\langle \\sigma_{j_1}\\otimes\\cdots\\otimes\\sigma_{j_n} \\rangle .\n",
    "$$\n",
    "\n",
    "This method is widely used, and has been implemented up to 8 qubits. However, since the number of measurements scales exponentially with dimension, the problem quickly becomes intractable. This protocol is widely used, and has been implemented up to 8 qubits. However, since the number of measurements scales exponentially with dimension, the problem quickly becomes intractable. "
   ]
  },
  {
   "cell_type": "markdown",
   "metadata": {},
   "source": [
    "## Variational quantum state tomography"
   ]
  },
  {
   "cell_type": "markdown",
   "metadata": {},
   "source": [
    "Several alternatives have been proposed to perform quantum state tomography efficiently for state of large number of qubits. One of them is the Variational Quantum Tomography (VQT), which works throught the maximization of the quantum fidelity $f = |\\langle \\phi |\\psi\\rangle|^2$ between the unknown state $|\\psi\\rangle $ of some system and one eigenvector $|\\phi\\rangle $ of a measurement operator, using Simultaneous perturbation stochastic approximation (SPSA), a well-known classical optimization algorithm. The main feature of SPSA for tomography is that it uses an aproximation of the gradient of the fidelity, instead of the exact one. This is crucial in our case, because the fidelity can be estimated experimentally, but its gradient cannot.\n",
    "\n",
    "If $|\\phi \\rangle $ depends on the parameters $\\boldsymbol{\\theta} \\in \\mathbb{R}^n$ and we are at iteration $k$, we\n",
    "\n",
    "   (1) Generate a random direction to search given by $\\boldsymbol{\\Delta}_k \\in \\{-1, 1\\}^n$.\n",
    "\n",
    "   (2) Calculate the estimated gradient in that direction, $\\boldsymbol{g}_k = \\frac{f(\\theta_k + \\Delta_k \\beta_k) - f(\\theta_k - \\Delta_k \\beta_k) }{2 \\beta_k} \\boldsymbol{\\Delta}_k$.\n",
    "\n",
    "   (3) Calculate the next iterate via $\\boldsymbol{\\theta}_{k+1} = \\boldsymbol{\\theta}_{k} + \\alpha_k \\boldsymbol{g}_k$,\n",
    "\n",
    "with $\\alpha_k$ and $\\beta_k$ functions of $k$ that control the convergence of the method. Then, in a sufficient number of iterations the estimate $|\\phi (\\boldsymbol{\\theta}) \\rangle$ is very close to the true state of the system $|\\psi\\rangle$, but not the same because of the shot noise of the measurements, as is usual in any tomographic method. Since SPSA employ two measurements of the Fidelity per iteration, the total number of measurements requiered by VQT is $2\\times$(Number of iterations), which can be not exponential in the number of qubits choosing suitably the number of iterations. Rambatch et al show in https://arxiv.org/pdf/2010.00632.pdf that tomography by optimization is more robust to experimental noise than tomography by estimation, which is really interesting for the NISQ computation. "
   ]
  },
  {
   "cell_type": "code",
   "execution_count": 1,
   "metadata": {
    "execution": {
     "iopub.execute_input": "2021-02-26T18:15:19.280336Z",
     "iopub.status.busy": "2021-02-26T18:15:19.280336Z",
     "iopub.status.idle": "2021-02-26T18:15:21.771453Z",
     "shell.execute_reply": "2021-02-26T18:15:21.771453Z",
     "shell.execute_reply.started": "2021-02-26T18:15:19.280336Z"
    }
   },
   "outputs": [],
   "source": [
    "import pennylane as qml    \n",
    "from pennylane import numpy as np                           \n",
    "import matplotlib.pyplot as plt  \n",
    "import QuantumTomography as qt"
   ]
  },
  {
   "cell_type": "markdown",
   "metadata": {},
   "source": [
    "We set the number of qubits and the optimization algorithm. "
   ]
  },
  {
   "cell_type": "code",
   "execution_count": 2,
   "metadata": {
    "execution": {
     "iopub.execute_input": "2021-02-26T18:15:21.773448Z",
     "iopub.status.busy": "2021-02-26T18:15:21.772451Z",
     "iopub.status.idle": "2021-02-26T18:15:21.778435Z",
     "shell.execute_reply": "2021-02-26T18:15:21.777438Z",
     "shell.execute_reply.started": "2021-02-26T18:15:21.773448Z"
    }
   },
   "outputs": [],
   "source": [
    "num_qubits = 5\n",
    "opt = qt.SPSA( a=2, c=0.1 )\n",
    "max_iterations = 1000\n",
    "np.random.seed(129464)"
   ]
  },
  {
   "cell_type": "markdown",
   "metadata": {},
   "source": [
    "We initialize two devices. The first one is the stochastic one, which will be used to perform the simulation. We will estimate the fidelity on al sample of 1000 shots. The second device is analitic, to study the exact precision of the method."
   ]
  },
  {
   "cell_type": "code",
   "execution_count": 3,
   "metadata": {
    "execution": {
     "iopub.execute_input": "2021-02-26T18:15:21.780429Z",
     "iopub.status.busy": "2021-02-26T18:15:21.780429Z",
     "iopub.status.idle": "2021-02-26T18:15:21.855229Z",
     "shell.execute_reply": "2021-02-26T18:15:21.855229Z",
     "shell.execute_reply.started": "2021-02-26T18:15:21.780429Z"
    }
   },
   "outputs": [],
   "source": [
    "dev_an = qml.device(\"default.qubit\", wires=num_qubits, analytic=True)\n",
    "dev_st = qml.device(\"default.qubit\", wires=num_qubits, analytic=False)"
   ]
  },
  {
   "cell_type": "markdown",
   "metadata": {},
   "source": [
    "As an example, we will simulate the VQT of a GHZ state. This is a highly entangled state, and is a common benchmark for tomography. "
   ]
  },
  {
   "cell_type": "code",
   "execution_count": 4,
   "metadata": {
    "execution": {
     "iopub.execute_input": "2021-02-26T18:15:21.857224Z",
     "iopub.status.busy": "2021-02-26T18:15:21.857224Z",
     "iopub.status.idle": "2021-02-26T18:15:21.863208Z",
     "shell.execute_reply": "2021-02-26T18:15:21.863208Z",
     "shell.execute_reply.started": "2021-02-26T18:15:21.857224Z"
    }
   },
   "outputs": [],
   "source": [
    "def GHZ_State( n_wires ):\n",
    "    qml.Hadamard( wires = 0 )\n",
    "    qml.broadcast( qml.CNOT, wires=range(n_wires), pattern=\"chain\" )"
   ]
  },
  {
   "cell_type": "markdown",
   "metadata": {},
   "source": [
    "### 1. Local variational form"
   ]
  },
  {
   "cell_type": "markdown",
   "metadata": {},
   "source": [
    "There are several variational forms that we can choose. The simplest one is a set of local rotations in each qubit. In this case, we will find the closest separable state to the GHZ. "
   ]
  },
  {
   "cell_type": "code",
   "execution_count": 5,
   "metadata": {
    "execution": {
     "iopub.execute_input": "2021-02-26T18:15:21.865203Z",
     "iopub.status.busy": "2021-02-26T18:15:21.864205Z",
     "iopub.status.idle": "2021-02-26T18:15:21.873181Z",
     "shell.execute_reply": "2021-02-26T18:15:21.873181Z",
     "shell.execute_reply.started": "2021-02-26T18:15:21.865203Z"
    }
   },
   "outputs": [],
   "source": [
    "def Variational_circuit_local(params, n_wires):\n",
    "    qml.broadcast( qml.RY, wires=range(n_wires), pattern=\"single\", parameters = params ) "
   ]
  },
  {
   "cell_type": "code",
   "execution_count": 6,
   "metadata": {
    "execution": {
     "iopub.execute_input": "2021-02-26T18:15:21.875176Z",
     "iopub.status.busy": "2021-02-26T18:15:21.874178Z",
     "iopub.status.idle": "2021-02-26T18:15:35.523809Z",
     "shell.execute_reply": "2021-02-26T18:15:35.522812Z",
     "shell.execute_reply.started": "2021-02-26T18:15:21.875176Z"
    }
   },
   "outputs": [],
   "source": [
    "@qml.qnode(dev_an)\n",
    "def Fidelity(params):\n",
    "    GHZ_State( num_qubits )\n",
    "    Variational_circuit_local(params, num_qubits)\n",
    "    return qml.probs(wires=range(num_qubits))\n",
    "\n",
    "Infidelity = lambda params : 1 - Fidelity(params)[0]\n",
    "\n",
    "parameters, infids_st = qt.VQT( GHZ_State, \n",
    "                                Variational_circuit_local, \n",
    "                                .25*np.ones(num_qubits), \n",
    "                                max_iterations,\n",
    "                                dev_st, \n",
    "                                opt)\n",
    "\n",
    "infids_an = [ Infidelity(θ) for θ in parameters ]"
   ]
  },
  {
   "cell_type": "markdown",
   "metadata": {},
   "source": [
    "Finally, we plot the infidelity for each iteration of the algorithm. Since the state is separable, the algorithm converges to $|00\\rangle$ or $|11\\rangle$ with equal probability."
   ]
  },
  {
   "cell_type": "code",
   "execution_count": 7,
   "metadata": {
    "execution": {
     "iopub.execute_input": "2021-02-26T18:15:35.524808Z",
     "iopub.status.busy": "2021-02-26T18:15:35.524808Z",
     "iopub.status.idle": "2021-02-26T18:15:36.088665Z",
     "shell.execute_reply": "2021-02-26T18:15:36.086671Z",
     "shell.execute_reply.started": "2021-02-26T18:15:35.524808Z"
    }
   },
   "outputs": [
    {
     "data": {
      "text/plain": [
       "Text(0, 0.5, 'Infidelity')"
      ]
     },
     "execution_count": 7,
     "metadata": {},
     "output_type": "execute_result"
    },
    {
     "data": {
      "image/png": "[encoded data removed]",
      "text/plain": [
       "<Figure size 432x288 with 1 Axes>"
      ]
     },
     "metadata": {
      "needs_background": "light"
     },
     "output_type": "display_data"
    }
   ],
   "source": [
    "plt.plot( infids_an )\n",
    "plt.plot( infids_st , 'x')\n",
    "plt.yscale('log')\n",
    "plt.xlabel('Iterations')\n",
    "plt.ylabel('Infidelity')"
   ]
  },
  {
   "cell_type": "markdown",
   "metadata": {},
   "source": [
    "### 2. Matrix product state variational form"
   ]
  },
  {
   "cell_type": "markdown",
   "metadata": {},
   "source": [
    "Now we change our variational form to a matrix product state (MPS). If the system has a low correlation distance, that is, the qubits only interact with their closest neighbors, the state can be efficiently represented through an MPS. So using an MPS would be a good choice if we know some information about the system. "
   ]
  },
  {
   "cell_type": "code",
   "execution_count": 8,
   "metadata": {
    "execution": {
     "iopub.execute_input": "2021-02-26T18:15:36.089662Z",
     "iopub.status.busy": "2021-02-26T18:15:36.089662Z",
     "iopub.status.idle": "2021-02-26T18:15:36.097641Z",
     "shell.execute_reply": "2021-02-26T18:15:36.096644Z",
     "shell.execute_reply.started": "2021-02-26T18:15:36.089662Z"
    }
   },
   "outputs": [],
   "source": [
    "@qml.template\n",
    "def single_layer_MPS( parameters, wires ):\n",
    "    qml.RY( parameters[0], wires = wires[0] )\n",
    "    qml.CNOT( wires = wires)\n",
    "    qml.RY( parameters[1], wires = wires[0] )\n",
    "    qml.RY( parameters[2], wires = wires[1] )\n",
    "\n",
    "@qml.template\n",
    "def Variational_circuit_MPS(params, n_wires):\n",
    "    qml.RY( params[0], wires = n_wires-1 )\n",
    "    params = params[:-1].reshape(n_wires-1,3)\n",
    "    for k in reversed(range(n_wires-1)) :\n",
    "        single_layer_MPS( params[k] , [k,k+1] )"
   ]
  },
  {
   "cell_type": "code",
   "execution_count": 9,
   "metadata": {
    "execution": {
     "iopub.execute_input": "2021-02-26T18:15:36.099635Z",
     "iopub.status.busy": "2021-02-26T18:15:36.099635Z",
     "iopub.status.idle": "2021-02-26T18:15:57.582393Z",
     "shell.execute_reply": "2021-02-26T18:15:57.582393Z",
     "shell.execute_reply.started": "2021-02-26T18:15:36.099635Z"
    }
   },
   "outputs": [],
   "source": [
    "@qml.qnode(dev_an)\n",
    "def Fidelity(params):\n",
    "    GHZ_State( num_qubits )\n",
    "    Variational_circuit_MPS(params, num_qubits)\n",
    "    return qml.probs(wires=range(num_qubits))\n",
    "\n",
    "Infidelity = lambda params : 1 - Fidelity(params)[0]\n",
    "\n",
    "parameters, infids_st = qt.VQT( GHZ_State, \n",
    "                                Variational_circuit_MPS, \n",
    "                                .25*np.ones(3*num_qubits-2), \n",
    "                                max_iterations,\n",
    "                                dev_st, \n",
    "                                opt)\n",
    "\n",
    "infids_an = [ Infidelity(θ) for θ in parameters ]"
   ]
  },
  {
   "cell_type": "markdown",
   "metadata": {},
   "source": [
    "We see in the following plot that the distance between the true state and the estimate drops to around $10^{-3}$, but reaches a plateau in the case of the experimental fidelity. This is because of the shot noise. "
   ]
  },
  {
   "cell_type": "code",
   "execution_count": 10,
   "metadata": {
    "execution": {
     "iopub.execute_input": "2021-02-26T18:15:57.584390Z",
     "iopub.status.busy": "2021-02-26T18:15:57.583391Z",
     "iopub.status.idle": "2021-02-26T18:15:57.977901Z",
     "shell.execute_reply": "2021-02-26T18:15:57.977901Z",
     "shell.execute_reply.started": "2021-02-26T18:15:57.584390Z"
    }
   },
   "outputs": [
    {
     "data": {
      "text/plain": [
       "Text(0, 0.5, 'Infidelity')"
      ]
     },
     "execution_count": 10,
     "metadata": {},
     "output_type": "execute_result"
    },
    {
     "data": {
      "image/png": "[encoded data removed]",
      "text/plain": [
       "<Figure size 432x288 with 1 Axes>"
      ]
     },
     "metadata": {
      "needs_background": "light"
     },
     "output_type": "display_data"
    }
   ],
   "source": [
    "plt.plot( infids_an )\n",
    "plt.plot( infids_st , 'x')\n",
    "plt.yscale('log')\n",
    "plt.xlabel('Iterations')\n",
    "plt.ylabel('Infidelity')"
   ]
  },
  {
   "cell_type": "markdown",
   "metadata": {},
   "source": [
    "### 3. Dense variational form"
   ]
  },
  {
   "cell_type": "markdown",
   "metadata": {},
   "source": [
    "Finally, we allow the parameters of $| \\phi \\rangle$ to be completely free using a dense layer. This is useful if we do not know anything about the unknown state. "
   ]
  },
  {
   "cell_type": "code",
   "execution_count": 11,
   "metadata": {
    "execution": {
     "iopub.execute_input": "2021-02-26T18:15:57.979861Z",
     "iopub.status.busy": "2021-02-26T18:15:57.978863Z",
     "iopub.status.idle": "2021-02-26T18:15:57.985849Z",
     "shell.execute_reply": "2021-02-26T18:15:57.985849Z",
     "shell.execute_reply.started": "2021-02-26T18:15:57.979861Z"
    }
   },
   "outputs": [],
   "source": [
    "def single_layer_dense(W):\n",
    "    n_wires  = W.shape[0]\n",
    "    qml.broadcast( qml.RY, wires=range(n_wires), pattern=\"single\", parameters = W ) \n",
    "    qml.broadcast( qml.CNOT, wires=range(n_wires), pattern=\"all_to_all\" )\n",
    "\n",
    "def Variational_circuit_dense(params, wires):\n",
    "    n_layers = params.shape[0]-1\n",
    "    n_wires = params.shape[1]\n",
    "    qml.layer( single_layer_dense, n_layers, params[:n_layers] )\n",
    "    qml.broadcast( qml.RY, wires=range(n_wires), pattern=\"single\", parameters = params[n_layers] ) "
   ]
  },
  {
   "cell_type": "code",
   "execution_count": null,
   "metadata": {
    "execution": {
     "iopub.execute_input": "2021-02-26T18:15:57.988838Z",
     "iopub.status.busy": "2021-02-26T18:15:57.987844Z"
    }
   },
   "outputs": [],
   "source": [
    "@qml.qnode(dev_an)\n",
    "def Fidelity(params):\n",
    "    GHZ_State( num_qubits )\n",
    "    Variational_circuit_dense(params, num_qubits)\n",
    "    return qml.probs(wires=range(num_qubits))\n",
    "\n",
    "Infidelity = lambda params : 1 - Fidelity(params)[0]\n",
    "\n",
    "parameters, infids_st = qt.VQT( GHZ_State, \n",
    "                                Variational_circuit_dense, \n",
    "                                np.zeros((num_qubits,num_qubits)), \n",
    "                                max_iterations,\n",
    "                                dev_st, \n",
    "                                opt)\n",
    "\n",
    "infids_an = [ Infidelity(θ) for θ in parameters ]"
   ]
  },
  {
   "cell_type": "markdown",
   "metadata": {},
   "source": [
    "We see that the fidelity is almost the same that using an MPS. This is because the choise of a GHZ state as a benchmark for the protocol. "
   ]
  },
  {
   "cell_type": "code",
   "execution_count": null,
   "metadata": {},
   "outputs": [],
   "source": [
    "plt.plot( infids_an )\n",
    "plt.plot( infids_st , 'x')\n",
    "plt.yscale('log')\n",
    "plt.xlabel('Iterations')\n",
    "plt.ylabel('Infidelity')"
   ]
  },
  {
   "cell_type": "code",
   "execution_count": null,
   "metadata": {},
   "outputs": [],
   "source": []
  },
  {
   "cell_type": "code",
   "execution_count": null,
   "metadata": {},
   "outputs": [],
   "source": []
  },
  {
   "cell_type": "code",
   "execution_count": null,
   "metadata": {},
   "outputs": [],
   "source": []
  },
  {
   "cell_type": "code",
   "execution_count": null,
   "metadata": {},
   "outputs": [],
   "source": []
  }
 ],
 "metadata": {
  "kernelspec": {
   "display_name": "Python 3",
   "language": "python",
   "name": "python3"
  },
  "language_info": {
   "codemirror_mode": {
    "name": "ipython",
    "version": 3
   },
   "file_extension": ".py",
   "mimetype": "text/x-python",
   "name": "python",
   "nbconvert_exporter": "python",
   "pygments_lexer": "ipython3",
   "version": "3.7.7"
  }
 },
 "nbformat": 4,
 "nbformat_minor": 4
}

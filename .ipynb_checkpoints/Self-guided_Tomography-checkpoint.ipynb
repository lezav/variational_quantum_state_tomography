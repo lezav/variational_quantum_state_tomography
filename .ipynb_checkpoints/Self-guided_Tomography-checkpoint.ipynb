{
 "cells": [
  {
   "cell_type": "markdown",
   "metadata": {},
   "source": [
    "# Variational quantum state tomography"
   ]
  },
  {
   "cell_type": "markdown",
   "metadata": {},
   "source": [
    "In this notebook we will implement a variational tomographic method for pure quantum states, based on https://arxiv.org/abs/1406.4101. We start with an introduction to the problem of estimating quantum states, then we explain the method and its optimization algorithm and we finish with the implementation of the problem using pennylane. "
   ]
  },
  {
   "cell_type": "markdown",
   "metadata": {},
   "source": [
    "## Quantum state tomography"
   ]
  },
  {
   "cell_type": "markdown",
   "metadata": {},
   "source": [
    "## Self guided quantum state tomography"
   ]
  },
  {
   "cell_type": "markdown",
   "metadata": {},
   "source": [
    "Self guided quantum tomography works throught the maximization of the quantum fidelity $f = |\\langle \\phi |\\psi\\rangle|^2$ between the unknown state $|\\psi\\rangle $ of some system and one eigenvector $|\\phi\\rangle $ of a measurement operator, using SPSA (Simultaneous perturbation stochastic approximation). The main feature of SPSA for tomography is that it uses an aproximation of the gradient of the fidelity, instead of the exact one. This is crucial in our case, because the fidelity can be estimated experimentally, but its gradient cannot.\n",
    "\n",
    "If $|\\phi \\rangle $ depends on the parameters $\\boldsymbol{\\theta} \\in \\mathbb{R}^n$ and we are at iteration $k$, we\n",
    "\n",
    "   (1) Generate a random direction to search given by $\\boldsymbol{\\Delta}_k \\in \\{-1, 1\\}^n$.\n",
    "\n",
    "   (2) Calculate the estimated gradient in that direction, $\\boldsymbol{g}_k = \\frac{f(\\theta_k + \\Delta_k \\beta_k) - f(\\theta_k - \\Delta_k \\beta_k) }{2 \\beta_k} \\boldsymbol{\\Delta}_k$.\n",
    "\n",
    "   (3) Calculate the next iterate via $\\boldsymbol{\\theta}_{k+1} = \\boldsymbol{\\theta}_{k} + \\alpha_k \\boldsymbol{g}_k$,\n",
    "\n",
    "with $\\alpha_k$ and $\\beta_k$ functions of $k$ that control the convergence of the method. Then, in a sufficient number of iterations the estimate $|\\phi (\\boldsymbol{\\theta}) \\rangle$ is very close to the true state of the system $|\\psi\\rangle $."
   ]
  },
  {
   "cell_type": "markdown",
   "metadata": {},
   "source": [
    "## Self guided quantum state tomography using pennylane"
   ]
  },
  {
   "cell_type": "code",
   "execution_count": 1,
   "metadata": {
    "execution": {
     "iopub.execute_input": "2021-02-25T09:34:51.820148Z",
     "iopub.status.busy": "2021-02-25T09:34:51.820148Z",
     "iopub.status.idle": "2021-02-25T09:34:54.350983Z",
     "shell.execute_reply": "2021-02-25T09:34:54.350001Z",
     "shell.execute_reply.started": "2021-02-25T09:34:51.820148Z"
    }
   },
   "outputs": [],
   "source": [
    "import pennylane as qml    \n",
    "from pennylane import numpy as np                           \n",
    "import matplotlib.pyplot as plt  "
   ]
  },
  {
   "cell_type": "markdown",
   "metadata": {},
   "source": [
    "We first implement SPSA. Since we use a class, it can be used like any other optimization method in pennylane."
   ]
  },
  {
   "cell_type": "code",
   "execution_count": 2,
   "metadata": {
    "execution": {
     "iopub.execute_input": "2021-02-25T09:34:54.352978Z",
     "iopub.status.busy": "2021-02-25T09:34:54.351980Z",
     "iopub.status.idle": "2021-02-25T09:34:54.398855Z",
     "shell.execute_reply": "2021-02-25T09:34:54.397857Z",
     "shell.execute_reply.started": "2021-02-25T09:34:54.352978Z"
    }
   },
   "outputs": [],
   "source": [
    "class SPSA:\n",
    "    \n",
    "    def __init__( self, a=3 , c=0.01, A=0, α=0.602 , γ=0.101):\n",
    "        self._a = a\n",
    "        self._c = c\n",
    "        self._A = A\n",
    "        self._α = α\n",
    "        self._γ = γ\n",
    "        \n",
    "    def step( self, function, θ, k ):\n",
    "        \n",
    "        ak = self._a/(k+self._A+1)**self._α, \n",
    "        ck = self._c/(k+1)**self._γ\n",
    "                \n",
    "        Δ  = 2*np.round( np.random.rand(θ.size).reshape(θ.shape) )-1\n",
    "        \n",
    "        θ_plus  = θ + ck*Δ\n",
    "        θ_minus = θ - ck*Δ   \n",
    "        \n",
    "        function_plus  = function( θ_plus )  \n",
    "        function_minus = function( θ_minus )  \n",
    "        \n",
    "        ghat = np.divide( function_plus-function_minus, 2*ck*Δ + 1e-8 )\n",
    "        \n",
    "        return θ - ak*ghat "
   ]
  },
  {
   "cell_type": "markdown",
   "metadata": {},
   "source": [
    "We set the number of qubits and the optimization algorithm. "
   ]
  },
  {
   "cell_type": "code",
   "execution_count": 3,
   "metadata": {
    "execution": {
     "iopub.execute_input": "2021-02-25T09:34:54.400851Z",
     "iopub.status.busy": "2021-02-25T09:34:54.400851Z",
     "iopub.status.idle": "2021-02-25T09:34:54.419799Z",
     "shell.execute_reply": "2021-02-25T09:34:54.418801Z",
     "shell.execute_reply.started": "2021-02-25T09:34:54.400851Z"
    }
   },
   "outputs": [],
   "source": [
    "num_qubits = 5\n",
    "opt = SPSA( a=2, c=0.1 )\n",
    "max_iterations = 1000\n",
    "np.random.seed(129464)"
   ]
  },
  {
   "cell_type": "code",
   "execution_count": 4,
   "metadata": {
    "execution": {
     "iopub.execute_input": "2021-02-25T09:34:54.421794Z",
     "iopub.status.busy": "2021-02-25T09:34:54.420796Z",
     "iopub.status.idle": "2021-02-25T09:34:54.486619Z",
     "shell.execute_reply": "2021-02-25T09:34:54.486619Z",
     "shell.execute_reply.started": "2021-02-25T09:34:54.421794Z"
    }
   },
   "outputs": [],
   "source": [
    "dev_an = qml.device(\"default.qubit\", wires=num_qubits, analytic=True)\n",
    "dev_st = qml.device(\"default.qubit\", wires=num_qubits, analytic=False)"
   ]
  },
  {
   "cell_type": "code",
   "execution_count": 5,
   "metadata": {
    "execution": {
     "iopub.execute_input": "2021-02-25T09:34:54.487616Z",
     "iopub.status.busy": "2021-02-25T09:34:54.487616Z",
     "iopub.status.idle": "2021-02-25T09:34:54.495109Z",
     "shell.execute_reply": "2021-02-25T09:34:54.492129Z",
     "shell.execute_reply.started": "2021-02-25T09:34:54.487616Z"
    }
   },
   "outputs": [],
   "source": [
    "def GHZ_State( n_wires ):\n",
    "    qml.Hadamard( wires = 0 )\n",
    "    qml.broadcast( qml.CNOT, wires=range(n_wires), pattern=\"chain\" )"
   ]
  },
  {
   "cell_type": "markdown",
   "metadata": {},
   "source": [
    "### 1. Local variational form"
   ]
  },
  {
   "cell_type": "code",
   "execution_count": 6,
   "metadata": {
    "execution": {
     "iopub.execute_input": "2021-02-25T09:34:54.498101Z",
     "iopub.status.busy": "2021-02-25T09:34:54.497104Z",
     "iopub.status.idle": "2021-02-25T09:34:54.510072Z",
     "shell.execute_reply": "2021-02-25T09:34:54.508074Z",
     "shell.execute_reply.started": "2021-02-25T09:34:54.497104Z"
    }
   },
   "outputs": [],
   "source": [
    "def Variational_circuit(params, n_wires):\n",
    "    qml.broadcast( qml.RY, wires=range(n_wires), pattern=\"single\", parameters = params ) "
   ]
  },
  {
   "cell_type": "code",
   "execution_count": 7,
   "metadata": {
    "execution": {
     "iopub.execute_input": "2021-02-25T09:34:54.516054Z",
     "iopub.status.busy": "2021-02-25T09:34:54.515056Z",
     "iopub.status.idle": "2021-02-25T09:34:54.536997Z",
     "shell.execute_reply": "2021-02-25T09:34:54.536000Z",
     "shell.execute_reply.started": "2021-02-25T09:34:54.516054Z"
    }
   },
   "outputs": [],
   "source": [
    "@qml.qnode(dev_an)\n",
    "def Fidelity_analytic(params):\n",
    "    n_wires = dev_an.num_wires\n",
    "    GHZ_State( n_wires )\n",
    "    Variational_circuit(params, n_wires)\n",
    "    return qml.probs(wires=range(n_wires))\n",
    "\n",
    "@qml.qnode(dev_st)\n",
    "def Fidelity_stochastic(params):\n",
    "    n_wires = dev_st.num_wires\n",
    "    GHZ_State( n_wires )\n",
    "    Variational_circuit(params, n_wires)\n",
    "    return qml.probs(wires=range(n_wires))"
   ]
  },
  {
   "cell_type": "code",
   "execution_count": 8,
   "metadata": {
    "execution": {
     "iopub.execute_input": "2021-02-25T09:34:54.538991Z",
     "iopub.status.busy": "2021-02-25T09:34:54.538991Z",
     "iopub.status.idle": "2021-02-25T09:35:06.404908Z",
     "shell.execute_reply": "2021-02-25T09:35:06.404908Z",
     "shell.execute_reply.started": "2021-02-25T09:34:54.538991Z"
    }
   },
   "outputs": [
    {
     "name": "stdout",
     "output_type": "stream",
     "text": [
      "\n",
      "Final fidelidad =  0.4976544894933157\n",
      "\n"
     ]
    }
   ],
   "source": [
    "infids_an = []\n",
    "infids_st = []\n",
    "params    = .25*np.ones(num_qubits)\n",
    "fun_an    = lambda params : 1 - Fidelity_analytic(params)[0]\n",
    "fun_st    = lambda params : 1 - Fidelity_stochastic(params)[0]\n",
    "\n",
    "for n in range(max_iterations):\n",
    "    params = opt.step( fun_st, params, n )\n",
    "    infids_an.append( fun_an(params) )\n",
    "    infids_st.append( fun_st(params) )\n",
    "\n",
    "print()\n",
    "print( 'Final fidelidad = ', 1-infids_an[-1] )\n",
    "print()\n",
    "\n",
    "infids_an = np.array(infids_an)\n",
    "infids_st = np.array(infids_st)"
   ]
  },
  {
   "cell_type": "code",
   "execution_count": 9,
   "metadata": {
    "execution": {
     "iopub.execute_input": "2021-02-25T09:35:06.406903Z",
     "iopub.status.busy": "2021-02-25T09:35:06.406903Z",
     "iopub.status.idle": "2021-02-25T09:35:06.947477Z",
     "shell.execute_reply": "2021-02-25T09:35:06.947477Z",
     "shell.execute_reply.started": "2021-02-25T09:35:06.406903Z"
    }
   },
   "outputs": [
    {
     "data": {
      "text/plain": [
       "Text(0, 0.5, 'Infidelity')"
      ]
     },
     "execution_count": 9,
     "metadata": {},
     "output_type": "execute_result"
    },
    {
     "data": {
      "image/png": "[encoded data removed]",
      "text/plain": [
       "<Figure size 432x288 with 1 Axes>"
      ]
     },
     "metadata": {
      "needs_background": "light"
     },
     "output_type": "display_data"
    }
   ],
   "source": [
    "plt.plot( infids_an )\n",
    "plt.yscale('log')\n",
    "ylim = min( 0.01, plt.axis()[2] )\n",
    "infids_st[infids_st<ylim] = ylim\n",
    "plt.plot( infids_st , 'x')\n",
    "plt.xlabel('Iterations')\n",
    "plt.ylabel('Infidelity')"
   ]
  },
  {
   "cell_type": "markdown",
   "metadata": {},
   "source": [
    "### 2. MPS variational form"
   ]
  },
  {
   "cell_type": "code",
   "execution_count": 10,
   "metadata": {
    "execution": {
     "iopub.execute_input": "2021-02-25T09:35:06.949473Z",
     "iopub.status.busy": "2021-02-25T09:35:06.949473Z",
     "iopub.status.idle": "2021-02-25T09:35:06.959453Z",
     "shell.execute_reply": "2021-02-25T09:35:06.957451Z",
     "shell.execute_reply.started": "2021-02-25T09:35:06.949473Z"
    }
   },
   "outputs": [],
   "source": [
    "@qml.template\n",
    "def single_layer( parameters, wires ):\n",
    "    qml.RY( parameters[0], wires = wires[0] )\n",
    "    qml.CNOT( wires = wires)\n",
    "    qml.RY( parameters[1], wires = wires[0] )\n",
    "    qml.RY( parameters[2], wires = wires[1] )\n",
    "\n",
    "@qml.template\n",
    "def Variational_circuit(params, n_wires):\n",
    "    qml.RY( params[0], wires = n_wires-1 )\n",
    "    params = params[:-1].reshape(n_wires-1,3)\n",
    "    for k in reversed(range(n_wires-1)) :\n",
    "        single_layer( params[k] , [k,k+1] )"
   ]
  },
  {
   "cell_type": "code",
   "execution_count": 11,
   "metadata": {
    "execution": {
     "iopub.execute_input": "2021-02-25T09:35:06.964433Z",
     "iopub.status.busy": "2021-02-25T09:35:06.962448Z",
     "iopub.status.idle": "2021-02-25T09:35:06.976402Z",
     "shell.execute_reply": "2021-02-25T09:35:06.974407Z",
     "shell.execute_reply.started": "2021-02-25T09:35:06.964433Z"
    }
   },
   "outputs": [],
   "source": [
    "@qml.qnode(dev_an)\n",
    "def Fidelity_analytic(params):\n",
    "    n_wires = dev_an.num_wires\n",
    "    GHZ_State( n_wires )\n",
    "    Variational_circuit(params, n_wires)\n",
    "    return qml.probs(wires=range(n_wires))\n",
    "\n",
    "@qml.qnode(dev_st)\n",
    "def Fidelity_stochastic(params):\n",
    "    n_wires = dev_st.num_wires\n",
    "    GHZ_State( n_wires )\n",
    "    Variational_circuit(params, n_wires)\n",
    "    return qml.probs(wires=range(n_wires))"
   ]
  },
  {
   "cell_type": "code",
   "execution_count": 12,
   "metadata": {
    "execution": {
     "iopub.execute_input": "2021-02-25T09:35:06.979394Z",
     "iopub.status.busy": "2021-02-25T09:35:06.978396Z",
     "iopub.status.idle": "2021-02-25T09:35:28.261453Z",
     "shell.execute_reply": "2021-02-25T09:35:28.260455Z",
     "shell.execute_reply.started": "2021-02-25T09:35:06.979394Z"
    }
   },
   "outputs": [
    {
     "name": "stdout",
     "output_type": "stream",
     "text": [
      "\n",
      "Final fidelidad =  0.9997434642954134\n",
      "\n"
     ]
    }
   ],
   "source": [
    "infids_an = []\n",
    "infids_st = []\n",
    "params    = .25*np.ones(3*num_qubits-2)\n",
    "fun_an    = lambda params : 1 - Fidelity_analytic(params)[0]\n",
    "fun_st    = lambda params : 1 - Fidelity_stochastic(params)[0]\n",
    "\n",
    "for n in range(max_iterations):\n",
    "    params = opt.step( fun_st, params, n )\n",
    "    infids_an.append( fun_an(params) )\n",
    "    infids_st.append( fun_st(params) )\n",
    "\n",
    "print()\n",
    "print( 'Final fidelidad = ', 1-infids_an[-1] )\n",
    "print()\n",
    "\n",
    "infids_an = np.array(infids_an)\n",
    "infids_st = np.array(infids_st)"
   ]
  },
  {
   "cell_type": "code",
   "execution_count": 13,
   "metadata": {
    "execution": {
     "iopub.execute_input": "2021-02-25T09:35:28.262457Z",
     "iopub.status.busy": "2021-02-25T09:35:28.262457Z",
     "iopub.status.idle": "2021-02-25T09:35:28.757330Z",
     "shell.execute_reply": "2021-02-25T09:35:28.757330Z",
     "shell.execute_reply.started": "2021-02-25T09:35:28.262457Z"
    }
   },
   "outputs": [
    {
     "data": {
      "text/plain": [
       "Text(0, 0.5, 'Infidelity')"
      ]
     },
     "execution_count": 13,
     "metadata": {},
     "output_type": "execute_result"
    },
    {
     "data": {
      "image/png": "[encoded data removed]",
      "text/plain": [
       "<Figure size 432x288 with 1 Axes>"
      ]
     },
     "metadata": {
      "needs_background": "light"
     },
     "output_type": "display_data"
    }
   ],
   "source": [
    "plt.plot( infids_an )\n",
    "plt.plot( infids_st , 'x')\n",
    "plt.yscale('log')\n",
    "plt.xlabel('Iterations')\n",
    "plt.ylabel('Infidelity')"
   ]
  },
  {
   "cell_type": "markdown",
   "metadata": {},
   "source": [
    "### 3. Dense variational form"
   ]
  },
  {
   "cell_type": "code",
   "execution_count": 14,
   "metadata": {
    "execution": {
     "iopub.execute_input": "2021-02-25T09:35:28.760323Z",
     "iopub.status.busy": "2021-02-25T09:35:28.759326Z",
     "iopub.status.idle": "2021-02-25T09:35:28.769304Z",
     "shell.execute_reply": "2021-02-25T09:35:28.768301Z",
     "shell.execute_reply.started": "2021-02-25T09:35:28.760323Z"
    }
   },
   "outputs": [],
   "source": [
    "def single_layer(W):\n",
    "    n_wires  = W.shape[0]\n",
    "    qml.broadcast( qml.RY, wires=range(n_wires), pattern=\"single\", parameters = W ) \n",
    "    qml.broadcast( qml.CNOT, wires=range(n_wires), pattern=\"all_to_all\" )\n",
    "\n",
    "def Variational_circuit(params, wires):\n",
    "    n_layers = params.shape[0]-1\n",
    "    n_wires = params.shape[1]\n",
    "    qml.layer( single_layer, n_layers, params[:n_layers] )\n",
    "    qml.broadcast( qml.RY, wires=range(n_wires), pattern=\"single\", parameters = params[n_layers] ) \n"
   ]
  },
  {
   "cell_type": "code",
   "execution_count": 15,
   "metadata": {
    "execution": {
     "iopub.execute_input": "2021-02-25T09:35:28.772291Z",
     "iopub.status.busy": "2021-02-25T09:35:28.770296Z",
     "iopub.status.idle": "2021-02-25T09:35:28.790242Z",
     "shell.execute_reply": "2021-02-25T09:35:28.789245Z",
     "shell.execute_reply.started": "2021-02-25T09:35:28.772291Z"
    }
   },
   "outputs": [],
   "source": [
    "@qml.qnode(dev_an)\n",
    "def Fidelity_analytic(params):\n",
    "    n_wires = dev_an.num_wires\n",
    "    GHZ_State( n_wires )\n",
    "    Variational_circuit(params, n_wires)\n",
    "    return qml.probs(wires=range(n_wires))\n",
    "\n",
    "@qml.qnode(dev_st)\n",
    "def Fidelity_stochastic(params):\n",
    "    n_wires = dev_st.num_wires\n",
    "    GHZ_State( n_wires )\n",
    "    Variational_circuit(params, n_wires)\n",
    "    return qml.probs(wires=range(n_wires))"
   ]
  },
  {
   "cell_type": "code",
   "execution_count": 16,
   "metadata": {
    "execution": {
     "iopub.execute_input": "2021-02-25T09:35:28.792237Z",
     "iopub.status.busy": "2021-02-25T09:35:28.791240Z",
     "iopub.status.idle": "2021-02-25T09:36:25.085729Z",
     "shell.execute_reply": "2021-02-25T09:36:25.085036Z",
     "shell.execute_reply.started": "2021-02-25T09:35:28.792237Z"
    }
   },
   "outputs": [
    {
     "name": "stdout",
     "output_type": "stream",
     "text": [
      "\n",
      "Final fidelidad =  0.9992443844511494\n",
      "\n"
     ]
    }
   ],
   "source": [
    "infids_an = []\n",
    "infids_st = []\n",
    "num_layers= num_qubits\n",
    "params    = np.zeros((num_layers,num_qubits))\n",
    "fun_an    = lambda params : 1 - Fidelity_analytic(params)[0]\n",
    "fun_st    = lambda params : 1 - Fidelity_stochastic(params)[0]\n",
    "\n",
    "for n in range(max_iterations):\n",
    "    params = opt.step( fun_st, params, n )\n",
    "    infids_an.append( fun_an(params) )\n",
    "    infids_st.append( fun_st(params) )\n",
    "\n",
    "print()\n",
    "print( 'Final fidelidad = ', 1-infids_an[-1] )\n",
    "print()\n",
    "\n",
    "infids_an = np.array(infids_an)\n",
    "infids_st = np.array(infids_st)"
   ]
  },
  {
   "cell_type": "code",
   "execution_count": 17,
   "metadata": {
    "execution": {
     "iopub.execute_input": "2021-02-25T09:36:25.086731Z",
     "iopub.status.busy": "2021-02-25T09:36:25.086731Z",
     "iopub.status.idle": "2021-02-25T09:36:25.574425Z",
     "shell.execute_reply": "2021-02-25T09:36:25.574425Z",
     "shell.execute_reply.started": "2021-02-25T09:36:25.086731Z"
    }
   },
   "outputs": [
    {
     "data": {
      "text/plain": [
       "Text(0, 0.5, 'Infidelity')"
      ]
     },
     "execution_count": 17,
     "metadata": {},
     "output_type": "execute_result"
    },
    {
     "data": {
      "image/png": "[encoded data removed]",
      "text/plain": [
       "<Figure size 432x288 with 1 Axes>"
      ]
     },
     "metadata": {
      "needs_background": "light"
     },
     "output_type": "display_data"
    }
   ],
   "source": [
    "plt.plot( infids_an )\n",
    "plt.yscale('log')\n",
    "ylim = plt.axis()[2]\n",
    "infids_st[infids_st<ylim] = ylim\n",
    "plt.plot( infids_st , 'x')\n",
    "plt.xlabel('Iterations')\n",
    "plt.ylabel('Infidelity')"
   ]
  },
  {
   "cell_type": "code",
   "execution_count": null,
   "metadata": {},
   "outputs": [],
   "source": []
  }
 ],
 "metadata": {
  "kernelspec": {
   "display_name": "Python 3",
   "language": "python",
   "name": "python3"
  },
  "language_info": {
   "codemirror_mode": {
    "name": "ipython",
    "version": 3
   },
   "file_extension": ".py",
   "mimetype": "text/x-python",
   "name": "python",
   "nbconvert_exporter": "python",
   "pygments_lexer": "ipython3",
   "version": "3.8.5"
  }
 },
 "nbformat": 4,
 "nbformat_minor": 4
}

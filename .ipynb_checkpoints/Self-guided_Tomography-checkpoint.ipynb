{
 "cells": [
  {
   "cell_type": "markdown",
   "metadata": {},
   "source": [
    "# Variational Quantum State Tomography"
   ]
  },
  {
   "cell_type": "markdown",
   "metadata": {},
   "source": [
    "Variational methods have a wide range of application in optimization and machine learning. However, they can also be used to study quantum computers. Currently, we are in an era where quantum computers present a large amount of noise due to the low number of qubits (<100) and the low fidelity of the gates. In this era, known as the noisy intermediate-scale quantum (NISQ), characterizing how quantum devices work is critical. One way to achieve this is through quantum tomography. This consists of protocols that allow obtaining the quantum state of a system, which can be a prior unknown. In this notebook we will implement a variational tomographic method for pure quantum states, based on https://arxiv.org/abs/1406.4101. We start with an introduction to the problem of estimating quantum states, then we explain the method and its optimization algorithm and we finish with the implementation of the problem using pennylane. "
   ]
  },
  {
   "cell_type": "markdown",
   "metadata": {},
   "source": [
    "## Quantum state tomography"
   ]
  },
  {
   "cell_type": "markdown",
   "metadata": {},
   "source": [
    "The most general way to represent a quantum state is through a semi-definite positive and trace one matrix known as density operator\n",
    "\n",
    "$$\n",
    "\\rho = \\frac{1}{2^n}\\sum_{j_1,\\dots,j_n} S_{j_1,\\dots,j_n} \\sigma_{j_1}\\otimes\\cdots\\otimes\\sigma_{j_n},\n",
    "$$\n",
    "\n",
    "where $\\{S_{j_1,\\dots,j_n} \\}$ are real parameters and $\\{\\sigma_{j}\\}$ are the Pauli matrices. The aim of quantum tomography methods is to obtain the parameters $\\{S_{j_1,\\dots,j_n} \\}$. This can be achieved by measuring $3^n-1$ observables given by tensor products of the Pauli matrices \n",
    "\n",
    "$$\n",
    "S_{j_1,\\dots,j_n} =  \\langle \\sigma_{j_1}\\otimes\\cdots\\otimes\\sigma_{j_n} \\rangle .\n",
    "$$\n",
    "\n",
    "This method is widely used, and has been implemented up to 8 qubits. However, since the number of measurements scales exponentially with dimension, the problem quickly becomes intractable. This protocol is widely used, and has been implemented up to 8 qubits. However, since the number of measurements scales exponentially with dimension, the problem quickly becomes intractable. "
   ]
  },
  {
   "cell_type": "markdown",
   "metadata": {},
   "source": [
    "## Self guided quantum state tomography"
   ]
  },
  {
   "cell_type": "markdown",
   "metadata": {},
   "source": [
    "Several alternatives have been proposed to perform quantum state tomography efficiently for state of large number of qubits. One of them is the self-guided quantum tomography (SGQT), which works throught the maximization of the quantum fidelity $f = |\\langle \\phi |\\psi\\rangle|^2$ between the unknown state $|\\psi\\rangle $ of some system and one eigenvector $|\\phi\\rangle $ of a measurement operator, using Simultaneous perturbation stochastic approximation (SPSA), a well-known classical optimization algorithm. The main feature of SPSA for tomography is that it uses an aproximation of the gradient of the fidelity, instead of the exact one. This is crucial in our case, because the fidelity can be estimated experimentally, but its gradient cannot.\n",
    "\n",
    "If $|\\phi \\rangle $ depends on the parameters $\\boldsymbol{\\theta} \\in \\mathbb{R}^n$ and we are at iteration $k$, we\n",
    "\n",
    "   (1) Generate a random direction to search given by $\\boldsymbol{\\Delta}_k \\in \\{-1, 1\\}^n$.\n",
    "\n",
    "   (2) Calculate the estimated gradient in that direction, $\\boldsymbol{g}_k = \\frac{f(\\theta_k + \\Delta_k \\beta_k) - f(\\theta_k - \\Delta_k \\beta_k) }{2 \\beta_k} \\boldsymbol{\\Delta}_k$.\n",
    "\n",
    "   (3) Calculate the next iterate via $\\boldsymbol{\\theta}_{k+1} = \\boldsymbol{\\theta}_{k} + \\alpha_k \\boldsymbol{g}_k$,\n",
    "\n",
    "with $\\alpha_k$ and $\\beta_k$ functions of $k$ that control the convergence of the method. Then, in a sufficient number of iterations the estimate $|\\phi (\\boldsymbol{\\theta}) \\rangle$ is very close to the true state of the system $|\\psi\\rangle$, but not the same because of the shot noise of the measurements, as is usual in any tomographic method. Since SPSA employ two measurements of the Fidelity per iteration, the total number of measurements requiered by SGQT is $2\\times$(Number of iterations), which can be not exponential in the number of qubits choosing suitably the number of iterations. Rambatch et al show in https://arxiv.org/pdf/2010.00632.pdf that tomography by optimization is more robust to experimental noise than tomography by estimation, which is really interesting for the NISQ computation. "
   ]
  },
  {
   "cell_type": "markdown",
   "metadata": {},
   "source": [
    "## Self guided quantum state tomography using pennylane"
   ]
  },
  {
   "cell_type": "code",
   "execution_count": 1,
   "metadata": {
    "execution": {
     "iopub.execute_input": "2021-02-26T10:41:21.918504Z",
     "iopub.status.busy": "2021-02-26T10:41:21.917489Z",
     "iopub.status.idle": "2021-02-26T10:41:23.397648Z",
     "shell.execute_reply": "2021-02-26T10:41:23.397648Z",
     "shell.execute_reply.started": "2021-02-26T10:41:21.918504Z"
    }
   },
   "outputs": [],
   "source": [
    "import pennylane as qml    \n",
    "from pennylane import numpy as np                           \n",
    "import matplotlib.pyplot as plt  "
   ]
  },
  {
   "cell_type": "markdown",
   "metadata": {},
   "source": [
    "We first implement SPSA. Since we use a class, it can be used like any other optimization method in pennylane."
   ]
  },
  {
   "cell_type": "code",
   "execution_count": 2,
   "metadata": {
    "execution": {
     "iopub.execute_input": "2021-02-26T10:41:23.399523Z",
     "iopub.status.busy": "2021-02-26T10:41:23.399523Z",
     "iopub.status.idle": "2021-02-26T10:41:23.438419Z",
     "shell.execute_reply": "2021-02-26T10:41:23.437942Z",
     "shell.execute_reply.started": "2021-02-26T10:41:23.399523Z"
    }
   },
   "outputs": [],
   "source": [
    "class SPSA:\n",
    "    \n",
    "    def __init__( self, a=3 , c=0.01, A=0, α=0.602 , γ=0.101):\n",
    "        self._a = a\n",
    "        self._c = c\n",
    "        self._A = A\n",
    "        self._α = α\n",
    "        self._γ = γ\n",
    "        \n",
    "    def step( self, function, θ, k ):\n",
    "        \n",
    "        ak = self._a/(k+self._A+1)**self._α, \n",
    "        ck = self._c/(k+1)**self._γ\n",
    "                \n",
    "        Δ  = 2*np.round( np.random.rand(θ.size).reshape(θ.shape) )-1\n",
    "        \n",
    "        θ_plus  = θ + ck*Δ\n",
    "        θ_minus = θ - ck*Δ   \n",
    "        \n",
    "        function_plus  = function( θ_plus )  \n",
    "        function_minus = function( θ_minus )  \n",
    "        \n",
    "        ghat = np.divide( function_plus-function_minus, 2*ck*Δ + 1e-8 )\n",
    "        \n",
    "        return θ - ak*ghat "
   ]
  },
  {
   "cell_type": "markdown",
   "metadata": {},
   "source": [
    "We set the number of qubits and the optimization algorithm. "
   ]
  },
  {
   "cell_type": "code",
   "execution_count": 3,
   "metadata": {
    "execution": {
     "iopub.execute_input": "2021-02-26T10:41:23.441412Z",
     "iopub.status.busy": "2021-02-26T10:41:23.440414Z",
     "iopub.status.idle": "2021-02-26T10:41:23.449390Z",
     "shell.execute_reply": "2021-02-26T10:41:23.448418Z",
     "shell.execute_reply.started": "2021-02-26T10:41:23.441412Z"
    }
   },
   "outputs": [],
   "source": [
    "num_qubits = 5\n",
    "opt = SPSA( a=2, c=0.1 )\n",
    "max_iterations = 1000\n",
    "np.random.seed(129464)"
   ]
  },
  {
   "cell_type": "markdown",
   "metadata": {},
   "source": [
    "We want to compare the performance of the method using analytic fidelity and experimental fidelity. Then we initialize two devices. "
   ]
  },
  {
   "cell_type": "code",
   "execution_count": 4,
   "metadata": {
    "execution": {
     "iopub.execute_input": "2021-02-26T10:41:23.451388Z",
     "iopub.status.busy": "2021-02-26T10:41:23.451388Z",
     "iopub.status.idle": "2021-02-26T10:41:23.493304Z",
     "shell.execute_reply": "2021-02-26T10:41:23.493304Z",
     "shell.execute_reply.started": "2021-02-26T10:41:23.451388Z"
    }
   },
   "outputs": [],
   "source": [
    "dev_an = qml.device(\"default.qubit\", wires=num_qubits, analytic=True)\n",
    "dev_st = qml.device(\"default.qubit\", wires=num_qubits, analytic=False)"
   ]
  },
  {
   "cell_type": "markdown",
   "metadata": {},
   "source": [
    "The unknown state will be a GHZ. This is a highly entangled state, and is a common benchmark for tomography. "
   ]
  },
  {
   "cell_type": "code",
   "execution_count": 5,
   "metadata": {
    "execution": {
     "iopub.execute_input": "2021-02-26T10:41:23.497261Z",
     "iopub.status.busy": "2021-02-26T10:41:23.496267Z",
     "iopub.status.idle": "2021-02-26T10:41:23.506237Z",
     "shell.execute_reply": "2021-02-26T10:41:23.505242Z",
     "shell.execute_reply.started": "2021-02-26T10:41:23.497261Z"
    }
   },
   "outputs": [],
   "source": [
    "def GHZ_State( n_wires ):\n",
    "    qml.Hadamard( wires = 0 )\n",
    "    qml.broadcast( qml.CNOT, wires=range(n_wires), pattern=\"chain\" )"
   ]
  },
  {
   "cell_type": "markdown",
   "metadata": {},
   "source": [
    "### 1. Local variational form"
   ]
  },
  {
   "cell_type": "markdown",
   "metadata": {},
   "source": [
    "There are several variational forms that we can choose. The simplest one is a set of local rotations in each qubit. In this case, we will find the closest separable state to the GHZ. "
   ]
  },
  {
   "cell_type": "code",
   "execution_count": 6,
   "metadata": {
    "execution": {
     "iopub.execute_input": "2021-02-26T10:41:23.509230Z",
     "iopub.status.busy": "2021-02-26T10:41:23.508232Z",
     "iopub.status.idle": "2021-02-26T10:41:23.517207Z",
     "shell.execute_reply": "2021-02-26T10:41:23.516236Z",
     "shell.execute_reply.started": "2021-02-26T10:41:23.509230Z"
    }
   },
   "outputs": [],
   "source": [
    "def Variational_circuit_local(params, n_wires):\n",
    "    qml.broadcast( qml.RY, wires=range(n_wires), pattern=\"single\", parameters = params ) "
   ]
  },
  {
   "cell_type": "code",
   "execution_count": 7,
   "metadata": {
    "execution": {
     "iopub.execute_input": "2021-02-26T10:41:23.519203Z",
     "iopub.status.busy": "2021-02-26T10:41:23.518204Z",
     "iopub.status.idle": "2021-02-26T10:41:23.529178Z",
     "shell.execute_reply": "2021-02-26T10:41:23.528179Z",
     "shell.execute_reply.started": "2021-02-26T10:41:23.519203Z"
    }
   },
   "outputs": [],
   "source": [
    "@qml.qnode(dev_an)\n",
    "def Fidelity_analytic(params):\n",
    "    n_wires = dev_an.num_wires\n",
    "    GHZ_State( n_wires )\n",
    "    Variational_circuit_local(params, n_wires)\n",
    "    return qml.probs(wires=range(n_wires))\n",
    "\n",
    "@qml.qnode(dev_st)\n",
    "def Fidelity_stochastic(params):\n",
    "    n_wires = dev_st.num_wires\n",
    "    GHZ_State( n_wires )\n",
    "    Variational_circuit_local(params, n_wires)\n",
    "    return qml.probs(wires=range(n_wires))"
   ]
  },
  {
   "cell_type": "markdown",
   "metadata": {},
   "source": [
    "We minimize the analytic and experimental infidelities. This is the same as maximizing the fidelity. "
   ]
  },
  {
   "cell_type": "code",
   "execution_count": 8,
   "metadata": {
    "execution": {
     "iopub.execute_input": "2021-02-26T10:41:23.532168Z",
     "iopub.status.busy": "2021-02-26T10:41:23.531171Z",
     "iopub.status.idle": "2021-02-26T10:41:23.672792Z",
     "shell.execute_reply": "2021-02-26T10:41:23.671794Z",
     "shell.execute_reply.started": "2021-02-26T10:41:23.532168Z"
    }
   },
   "outputs": [
    {
     "ename": "TypeError",
     "evalue": "Fidelity_stochastic() takes 1 positional argument but 2 were given",
     "output_type": "error",
     "traceback": [
      "\u001b[1;31m---------------------------------------------------------------------------\u001b[0m",
      "\u001b[1;31mTypeError\u001b[0m                                 Traceback (most recent call last)",
      "\u001b[1;32m<ipython-input-8-75548e1e42ee>\u001b[0m in \u001b[0;36m<module>\u001b[1;34m\u001b[0m\n\u001b[0;32m      6\u001b[0m \u001b[1;33m\u001b[0m\u001b[0m\n\u001b[0;32m      7\u001b[0m \u001b[1;32mfor\u001b[0m \u001b[0mn\u001b[0m \u001b[1;32min\u001b[0m \u001b[0mrange\u001b[0m\u001b[1;33m(\u001b[0m\u001b[0mmax_iterations\u001b[0m\u001b[1;33m)\u001b[0m\u001b[1;33m:\u001b[0m\u001b[1;33m\u001b[0m\u001b[1;33m\u001b[0m\u001b[0m\n\u001b[1;32m----> 8\u001b[1;33m     \u001b[0mparams\u001b[0m \u001b[1;33m=\u001b[0m \u001b[0mopt\u001b[0m\u001b[1;33m.\u001b[0m\u001b[0mstep\u001b[0m\u001b[1;33m(\u001b[0m \u001b[0mfun_st\u001b[0m\u001b[1;33m,\u001b[0m \u001b[0mparams\u001b[0m\u001b[1;33m,\u001b[0m \u001b[0mn\u001b[0m \u001b[1;33m)\u001b[0m\u001b[1;33m\u001b[0m\u001b[1;33m\u001b[0m\u001b[0m\n\u001b[0m\u001b[0;32m      9\u001b[0m     \u001b[0minfids_an\u001b[0m\u001b[1;33m.\u001b[0m\u001b[0mappend\u001b[0m\u001b[1;33m(\u001b[0m \u001b[0mfun_an\u001b[0m\u001b[1;33m(\u001b[0m\u001b[0mparams\u001b[0m\u001b[1;33m)\u001b[0m \u001b[1;33m)\u001b[0m\u001b[1;33m\u001b[0m\u001b[1;33m\u001b[0m\u001b[0m\n\u001b[0;32m     10\u001b[0m     \u001b[0minfids_st\u001b[0m\u001b[1;33m.\u001b[0m\u001b[0mappend\u001b[0m\u001b[1;33m(\u001b[0m \u001b[0mfun_st\u001b[0m\u001b[1;33m(\u001b[0m\u001b[0mparams\u001b[0m\u001b[1;33m)\u001b[0m \u001b[1;33m)\u001b[0m\u001b[1;33m\u001b[0m\u001b[1;33m\u001b[0m\u001b[0m\n",
      "\u001b[1;32m<ipython-input-2-18caeb8f47e2>\u001b[0m in \u001b[0;36mstep\u001b[1;34m(self, function, θ, k)\u001b[0m\n\u001b[0;32m     18\u001b[0m         \u001b[0mθ_minus\u001b[0m \u001b[1;33m=\u001b[0m \u001b[0mθ\u001b[0m \u001b[1;33m-\u001b[0m \u001b[0mck\u001b[0m\u001b[1;33m*\u001b[0m\u001b[0mΔ\u001b[0m\u001b[1;33m\u001b[0m\u001b[1;33m\u001b[0m\u001b[0m\n\u001b[0;32m     19\u001b[0m \u001b[1;33m\u001b[0m\u001b[0m\n\u001b[1;32m---> 20\u001b[1;33m         \u001b[0mfunction_plus\u001b[0m  \u001b[1;33m=\u001b[0m \u001b[0mfunction\u001b[0m\u001b[1;33m(\u001b[0m \u001b[0mθ_plus\u001b[0m \u001b[1;33m)\u001b[0m\u001b[1;33m\u001b[0m\u001b[1;33m\u001b[0m\u001b[0m\n\u001b[0m\u001b[0;32m     21\u001b[0m         \u001b[0mfunction_minus\u001b[0m \u001b[1;33m=\u001b[0m \u001b[0mfunction\u001b[0m\u001b[1;33m(\u001b[0m \u001b[0mθ_minus\u001b[0m \u001b[1;33m)\u001b[0m\u001b[1;33m\u001b[0m\u001b[1;33m\u001b[0m\u001b[0m\n\u001b[0;32m     22\u001b[0m \u001b[1;33m\u001b[0m\u001b[0m\n",
      "\u001b[1;32m<ipython-input-8-75548e1e42ee>\u001b[0m in \u001b[0;36m<lambda>\u001b[1;34m(params)\u001b[0m\n\u001b[0;32m      3\u001b[0m \u001b[0mparams\u001b[0m    \u001b[1;33m=\u001b[0m \u001b[1;36m.25\u001b[0m\u001b[1;33m*\u001b[0m\u001b[0mnp\u001b[0m\u001b[1;33m.\u001b[0m\u001b[0mones\u001b[0m\u001b[1;33m(\u001b[0m\u001b[0mnum_qubits\u001b[0m\u001b[1;33m)\u001b[0m\u001b[1;33m\u001b[0m\u001b[1;33m\u001b[0m\u001b[0m\n\u001b[0;32m      4\u001b[0m \u001b[0mfun_an\u001b[0m    \u001b[1;33m=\u001b[0m \u001b[1;32mlambda\u001b[0m \u001b[0mparams\u001b[0m \u001b[1;33m:\u001b[0m \u001b[1;36m1\u001b[0m \u001b[1;33m-\u001b[0m \u001b[0mFidelity_analytic\u001b[0m\u001b[1;33m(\u001b[0m\u001b[0mVariational_circuit_local\u001b[0m\u001b[1;33m,\u001b[0m\u001b[0mparams\u001b[0m\u001b[1;33m)\u001b[0m\u001b[1;33m[\u001b[0m\u001b[1;36m0\u001b[0m\u001b[1;33m]\u001b[0m\u001b[1;33m\u001b[0m\u001b[1;33m\u001b[0m\u001b[0m\n\u001b[1;32m----> 5\u001b[1;33m \u001b[0mfun_st\u001b[0m    \u001b[1;33m=\u001b[0m \u001b[1;32mlambda\u001b[0m \u001b[0mparams\u001b[0m \u001b[1;33m:\u001b[0m \u001b[1;36m1\u001b[0m \u001b[1;33m-\u001b[0m \u001b[0mFidelity_stochastic\u001b[0m\u001b[1;33m(\u001b[0m\u001b[0mVariational_circuit_local\u001b[0m\u001b[1;33m,\u001b[0m\u001b[0mparams\u001b[0m\u001b[1;33m)\u001b[0m\u001b[1;33m[\u001b[0m\u001b[1;36m0\u001b[0m\u001b[1;33m]\u001b[0m\u001b[1;33m\u001b[0m\u001b[1;33m\u001b[0m\u001b[0m\n\u001b[0m\u001b[0;32m      6\u001b[0m \u001b[1;33m\u001b[0m\u001b[0m\n\u001b[0;32m      7\u001b[0m \u001b[1;32mfor\u001b[0m \u001b[0mn\u001b[0m \u001b[1;32min\u001b[0m \u001b[0mrange\u001b[0m\u001b[1;33m(\u001b[0m\u001b[0mmax_iterations\u001b[0m\u001b[1;33m)\u001b[0m\u001b[1;33m:\u001b[0m\u001b[1;33m\u001b[0m\u001b[1;33m\u001b[0m\u001b[0m\n",
      "\u001b[1;32m~\\Anaconda3\\lib\\site-packages\\pennylane\\tape\\qnode.py\u001b[0m in \u001b[0;36m__call__\u001b[1;34m(self, *args, **kwargs)\u001b[0m\n\u001b[0;32m    528\u001b[0m         \u001b[1;32mif\u001b[0m \u001b[0mself\u001b[0m\u001b[1;33m.\u001b[0m\u001b[0mmutable\u001b[0m \u001b[1;32mor\u001b[0m \u001b[0mself\u001b[0m\u001b[1;33m.\u001b[0m\u001b[0mqtape\u001b[0m \u001b[1;32mis\u001b[0m \u001b[1;32mNone\u001b[0m\u001b[1;33m:\u001b[0m\u001b[1;33m\u001b[0m\u001b[1;33m\u001b[0m\u001b[0m\n\u001b[0;32m    529\u001b[0m             \u001b[1;31m# construct the tape\u001b[0m\u001b[1;33m\u001b[0m\u001b[1;33m\u001b[0m\u001b[1;33m\u001b[0m\u001b[0m\n\u001b[1;32m--> 530\u001b[1;33m             \u001b[0mself\u001b[0m\u001b[1;33m.\u001b[0m\u001b[0mconstruct\u001b[0m\u001b[1;33m(\u001b[0m\u001b[0margs\u001b[0m\u001b[1;33m,\u001b[0m \u001b[0mkwargs\u001b[0m\u001b[1;33m)\u001b[0m\u001b[1;33m\u001b[0m\u001b[1;33m\u001b[0m\u001b[0m\n\u001b[0m\u001b[0;32m    531\u001b[0m \u001b[1;33m\u001b[0m\u001b[0m\n\u001b[0;32m    532\u001b[0m         \u001b[1;31m# execute the tape\u001b[0m\u001b[1;33m\u001b[0m\u001b[1;33m\u001b[0m\u001b[1;33m\u001b[0m\u001b[0m\n",
      "\u001b[1;32m~\\Anaconda3\\lib\\site-packages\\pennylane\\tape\\qnode.py\u001b[0m in \u001b[0;36mconstruct\u001b[1;34m(self, args, kwargs)\u001b[0m\n\u001b[0;32m    467\u001b[0m \u001b[1;33m\u001b[0m\u001b[0m\n\u001b[0;32m    468\u001b[0m         \u001b[1;32mwith\u001b[0m \u001b[0mself\u001b[0m\u001b[1;33m.\u001b[0m\u001b[0mqtape\u001b[0m\u001b[1;33m:\u001b[0m\u001b[1;33m\u001b[0m\u001b[1;33m\u001b[0m\u001b[0m\n\u001b[1;32m--> 469\u001b[1;33m             \u001b[0mself\u001b[0m\u001b[1;33m.\u001b[0m\u001b[0mqfunc_output\u001b[0m \u001b[1;33m=\u001b[0m \u001b[0mself\u001b[0m\u001b[1;33m.\u001b[0m\u001b[0mfunc\u001b[0m\u001b[1;33m(\u001b[0m\u001b[1;33m*\u001b[0m\u001b[0margs\u001b[0m\u001b[1;33m,\u001b[0m \u001b[1;33m**\u001b[0m\u001b[0mkwargs\u001b[0m\u001b[1;33m)\u001b[0m\u001b[1;33m\u001b[0m\u001b[1;33m\u001b[0m\u001b[0m\n\u001b[0m\u001b[0;32m    470\u001b[0m \u001b[1;33m\u001b[0m\u001b[0m\n\u001b[0;32m    471\u001b[0m         \u001b[1;32mif\u001b[0m \u001b[1;32mnot\u001b[0m \u001b[0misinstance\u001b[0m\u001b[1;33m(\u001b[0m\u001b[0mself\u001b[0m\u001b[1;33m.\u001b[0m\u001b[0mqfunc_output\u001b[0m\u001b[1;33m,\u001b[0m \u001b[0mSequence\u001b[0m\u001b[1;33m)\u001b[0m\u001b[1;33m:\u001b[0m\u001b[1;33m\u001b[0m\u001b[1;33m\u001b[0m\u001b[0m\n",
      "\u001b[1;31mTypeError\u001b[0m: Fidelity_stochastic() takes 1 positional argument but 2 were given"
     ]
    }
   ],
   "source": [
    "infids_an = []\n",
    "infids_st = []\n",
    "params    = .25*np.ones(num_qubits)\n",
    "fun_an    = lambda params : 1 - Fidelity_analytic(Variational_circuit_local,params)[0]\n",
    "fun_st    = lambda params : 1 - Fidelity_stochastic(Variational_circuit_local,params)[0]\n",
    "\n",
    "for n in range(max_iterations):\n",
    "    params = opt.step( fun_st, params, n )\n",
    "    infids_an.append( fun_an(params) )\n",
    "    infids_st.append( fun_st(params) )\n",
    "\n",
    "print()\n",
    "print( 'Final fidelidad = ', 1-infids_an[-1] )\n",
    "print()\n",
    "\n",
    "infids_an = np.array(infids_an)\n",
    "infids_st = np.array(infids_st)"
   ]
  },
  {
   "cell_type": "markdown",
   "metadata": {},
   "source": [
    "Finally, we plot the infidelity for each iteration of the algorithm. Since the state is separable, the algorithm converges to $|00\\rangle$ or $|11\\rangle$ with equal probability"
   ]
  },
  {
   "cell_type": "code",
   "execution_count": null,
   "metadata": {
    "execution": {
     "iopub.status.busy": "2021-02-26T10:41:23.673789Z",
     "iopub.status.idle": "2021-02-26T10:41:23.673789Z"
    }
   },
   "outputs": [],
   "source": [
    "plt.plot( infids_an )\n",
    "plt.plot( infids_st , 'x')\n",
    "plt.yscale('log')\n",
    "plt.xlabel('Iterations')\n",
    "plt.ylabel('Infidelity')"
   ]
  },
  {
   "cell_type": "markdown",
   "metadata": {},
   "source": [
    "### 2. MPS variational form"
   ]
  },
  {
   "cell_type": "markdown",
   "metadata": {},
   "source": [
    "Now we change our variational form to a matrix product state (MPS). If the number of parameters of the state is low, this parametrization will give us a very accurate representation of the true state of the system. Then using a MPS would be a good choise if we know some information of the state. For example, the state is only weakly entangled. "
   ]
  },
  {
   "cell_type": "code",
   "execution_count": null,
   "metadata": {
    "execution": {
     "iopub.status.busy": "2021-02-26T10:41:23.674786Z",
     "iopub.status.idle": "2021-02-26T10:41:23.675784Z"
    }
   },
   "outputs": [],
   "source": [
    "@qml.template\n",
    "def single_layer( parameters, wires ):\n",
    "    qml.RY( parameters[0], wires = wires[0] )\n",
    "    qml.CNOT( wires = wires)\n",
    "    qml.RY( parameters[1], wires = wires[0] )\n",
    "    qml.RY( parameters[2], wires = wires[1] )\n",
    "\n",
    "@qml.template\n",
    "def Variational_circuit_MPS(params, n_wires):\n",
    "    qml.RY( params[0], wires = n_wires-1 )\n",
    "    params = params[:-1].reshape(n_wires-1,3)\n",
    "    for k in reversed(range(n_wires-1)) :\n",
    "        single_layer( params[k] , [k,k+1] )"
   ]
  },
  {
   "cell_type": "code",
   "execution_count": null,
   "metadata": {
    "execution": {
     "iopub.status.busy": "2021-02-26T10:41:23.675784Z",
     "iopub.status.idle": "2021-02-26T10:41:23.676781Z"
    }
   },
   "outputs": [],
   "source": [
    "@qml.qnode(dev_an)\n",
    "def Fidelity_analytic(params):\n",
    "    n_wires = dev_an.num_wires\n",
    "    GHZ_State( n_wires )\n",
    "    Variational_circuit_MPS(params, n_wires)\n",
    "    return qml.probs(wires=range(n_wires))\n",
    "\n",
    "@qml.qnode(dev_st)\n",
    "def Fidelity_stochastic(params):\n",
    "    n_wires = dev_st.num_wires\n",
    "    GHZ_State( n_wires )\n",
    "    Variational_circuit_MPS(params, n_wires)\n",
    "    return qml.probs(wires=range(n_wires))"
   ]
  },
  {
   "cell_type": "code",
   "execution_count": null,
   "metadata": {
    "execution": {
     "iopub.status.busy": "2021-02-26T10:41:23.677778Z",
     "iopub.status.idle": "2021-02-26T10:41:23.677778Z"
    }
   },
   "outputs": [],
   "source": [
    "infids_an = []\n",
    "infids_st = []\n",
    "params    = .25*np.ones(3*num_qubits-2)\n",
    "fun_an    = lambda params : 1 - Fidelity_analytic(params)[0]\n",
    "fun_st    = lambda params : 1 - Fidelity_stochastic(params)[0]\n",
    "\n",
    "for n in range(max_iterations):\n",
    "    params = opt.step( fun_st, params, n )\n",
    "    infids_an.append( fun_an(params) )\n",
    "    infids_st.append( fun_st(params) )\n",
    "\n",
    "print()\n",
    "print( 'Final fidelidad = ', 1-infids_an[-1] )\n",
    "print()\n",
    "\n",
    "infids_an = np.array(infids_an)\n",
    "infids_st = np.array(infids_st)"
   ]
  },
  {
   "cell_type": "markdown",
   "metadata": {},
   "source": [
    "We see in the following plot that the distance between the true state and the estimate drops to around $10^{-3}$, but reaches a plateau in the case of the experimental fidelity. This is because of the shot noise. "
   ]
  },
  {
   "cell_type": "code",
   "execution_count": null,
   "metadata": {
    "execution": {
     "iopub.status.busy": "2021-02-26T10:41:23.679773Z",
     "iopub.status.idle": "2021-02-26T10:41:23.679773Z"
    }
   },
   "outputs": [],
   "source": [
    "plt.plot( infids_an )\n",
    "plt.plot( infids_st , 'x')\n",
    "plt.yscale('log')\n",
    "plt.xlabel('Iterations')\n",
    "plt.ylabel('Infidelity')"
   ]
  },
  {
   "cell_type": "markdown",
   "metadata": {},
   "source": [
    "### 3. Dense variational form"
   ]
  },
  {
   "cell_type": "markdown",
   "metadata": {},
   "source": [
    "Finally, we allow the parameters of $| \\phi \\rangle$ to be completely free using a dense layer. This is useful if we do not know anything about the unknown state. "
   ]
  },
  {
   "cell_type": "code",
   "execution_count": null,
   "metadata": {
    "execution": {
     "iopub.status.busy": "2021-02-26T10:41:23.680770Z",
     "iopub.status.idle": "2021-02-26T10:41:23.680770Z"
    }
   },
   "outputs": [],
   "source": [
    "def single_layer(W):\n",
    "    n_wires  = W.shape[0]\n",
    "    qml.broadcast( qml.RY, wires=range(n_wires), pattern=\"single\", parameters = W ) \n",
    "    qml.broadcast( qml.CNOT, wires=range(n_wires), pattern=\"all_to_all\" )\n",
    "\n",
    "def Variational_circuit_dense(params, wires):\n",
    "    n_layers = params.shape[0]-1\n",
    "    n_wires = params.shape[1]\n",
    "    qml.layer( single_layer, n_layers, params[:n_layers] )\n",
    "    qml.broadcast( qml.RY, wires=range(n_wires), pattern=\"single\", parameters = params[n_layers] ) \n"
   ]
  },
  {
   "cell_type": "code",
   "execution_count": null,
   "metadata": {
    "execution": {
     "iopub.status.busy": "2021-02-26T10:41:23.681773Z",
     "iopub.status.idle": "2021-02-26T10:41:23.682764Z"
    }
   },
   "outputs": [],
   "source": [
    "@qml.qnode(dev_an)\n",
    "def Fidelity_analytic(params):\n",
    "    n_wires = dev_an.num_wires\n",
    "    GHZ_State( n_wires )\n",
    "    Variational_circuit_dense(params, n_wires)\n",
    "    return qml.probs(wires=range(n_wires))\n",
    "\n",
    "@qml.qnode(dev_st)\n",
    "def Fidelity_stochastic(params):\n",
    "    n_wires = dev_st.num_wires\n",
    "    GHZ_State( n_wires )\n",
    "    Variational_circuit_dense(params, n_wires)\n",
    "    return qml.probs(wires=range(n_wires))"
   ]
  },
  {
   "cell_type": "code",
   "execution_count": null,
   "metadata": {
    "execution": {
     "iopub.status.busy": "2021-02-26T10:41:23.683763Z",
     "iopub.status.idle": "2021-02-26T10:41:23.683763Z"
    }
   },
   "outputs": [],
   "source": [
    "infids_an = []\n",
    "infids_st = []\n",
    "num_layers= num_qubits\n",
    "params    = np.zeros((num_layers,num_qubits))\n",
    "fun_an    = lambda params : 1 - Fidelity_analytic(params)[0]\n",
    "fun_st    = lambda params : 1 - Fidelity_stochastic(params)[0]\n",
    "\n",
    "for n in range(max_iterations):\n",
    "    params = opt.step( fun_st, params, n )\n",
    "    infids_an.append( fun_an(params) )\n",
    "    infids_st.append( fun_st(params) )\n",
    "\n",
    "print()\n",
    "print( 'Final fidelidad = ', 1-infids_an[-1] )\n",
    "print()\n",
    "\n",
    "infids_an = np.array(infids_an)\n",
    "infids_st = np.array(infids_st)"
   ]
  },
  {
   "cell_type": "markdown",
   "metadata": {},
   "source": [
    "We see that the fidelity is almost the same that using an MPS. This is because the choise of a GHZ state as a benchmark for the protocol. "
   ]
  },
  {
   "cell_type": "code",
   "execution_count": null,
   "metadata": {
    "execution": {
     "iopub.status.busy": "2021-02-26T10:41:23.684759Z",
     "iopub.status.idle": "2021-02-26T10:41:23.685757Z"
    }
   },
   "outputs": [],
   "source": [
    "plt.plot( infids_an )\n",
    "plt.plot( infids_st , 'x')\n",
    "plt.yscale('log')\n",
    "plt.xlabel('Iterations')\n",
    "plt.ylabel('Infidelity')"
   ]
  },
  {
   "cell_type": "code",
   "execution_count": null,
   "metadata": {},
   "outputs": [],
   "source": []
  }
 ],
 "metadata": {
  "kernelspec": {
   "display_name": "Python 3",
   "language": "python",
   "name": "python3"
  },
  "language_info": {
   "codemirror_mode": {
    "name": "ipython",
    "version": 3
   },
   "file_extension": ".py",
   "mimetype": "text/x-python",
   "name": "python",
   "nbconvert_exporter": "python",
   "pygments_lexer": "ipython3",
   "version": "3.7.7"
  }
 },
 "nbformat": 4,
 "nbformat_minor": 4
}

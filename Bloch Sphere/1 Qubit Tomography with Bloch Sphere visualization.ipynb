{
 "cells": [
  {
   "cell_type": "code",
   "execution_count": 2,
   "metadata": {
    "execution": {
     "iopub.execute_input": "2021-02-26T19:37:46.068700Z",
     "iopub.status.busy": "2021-02-26T19:37:46.068700Z",
     "iopub.status.idle": "2021-02-26T19:37:52.395273Z",
     "shell.execute_reply": "2021-02-26T19:37:52.395273Z",
     "shell.execute_reply.started": "2021-02-26T19:37:46.068700Z"
    },
    "executionInfo": {
     "elapsed": 14702,
     "status": "ok",
     "timestamp": 1614358250167,
     "user": {
      "displayName": "Damian Muñoz Moller",
      "photoUrl": "",
      "userId": "17476576502820085573"
     },
     "user_tz": 180
    },
    "id": "hCK7FQhqqRlJ"
   },
   "outputs": [],
   "source": [
    "import pennylane as qml                             \r\n",
    "import matplotlib.pyplot as plt\r\n",
    "import qutip as qp\r\n",
    "from pennylane import numpy as np  \r\n",
    "%matplotlib inline"
   ]
  },
  {
   "cell_type": "markdown",
   "metadata": {},
   "source": [
    "We start by defining SPSA."
   ]
  },
  {
   "cell_type": "code",
   "execution_count": 3,
   "metadata": {
    "ExecuteTime": {
     "end_time": "2021-02-25T23:41:08.197446Z",
     "start_time": "2021-02-25T23:41:08.184273Z"
    },
    "execution": {
     "iopub.execute_input": "2021-02-26T19:37:52.397268Z",
     "iopub.status.busy": "2021-02-26T19:37:52.397268Z",
     "iopub.status.idle": "2021-02-26T19:37:52.405246Z",
     "shell.execute_reply": "2021-02-26T19:37:52.405246Z",
     "shell.execute_reply.started": "2021-02-26T19:37:52.397268Z"
    },
    "executionInfo": {
     "elapsed": 14694,
     "status": "ok",
     "timestamp": 1614358250168,
     "user": {
      "displayName": "Damian Muñoz Moller",
      "photoUrl": "",
      "userId": "17476576502820085573"
     },
     "user_tz": 180
    },
    "id": "qI6IWS9ZqOpp"
   },
   "outputs": [],
   "source": [
    "class SPSA:\n",
    "    \n",
    "    def __init__( self, a=3 , c=0.01, A=0, α=0.602 , γ=0.101):\n",
    "        self._a = a\n",
    "        self._c = c\n",
    "        self._A = A\n",
    "        self._α = α\n",
    "        self._γ = γ\n",
    "        \n",
    "    def step( self, function, θ, k ):\n",
    "        \n",
    "        ak = self._a/(k+self._A+1)**self._α, \n",
    "        ck = self._c/(k+1)**self._γ\n",
    "                \n",
    "        Δ  = 2*np.round( np.random.rand(θ.size).reshape(θ.shape) )-1\n",
    "        \n",
    "        θ_plus  = θ + ck*Δ\n",
    "        θ_minus = θ - ck*Δ   \n",
    "        \n",
    "        function_plus  = function( θ_plus )  \n",
    "        function_minus = function( θ_minus )  \n",
    "        \n",
    "        ghat = np.divide( function_plus-function_minus, 2*ck*Δ + 1e-8 )\n",
    "        \n",
    "        return θ - ak*ghat "
   ]
  },
  {
   "cell_type": "code",
   "execution_count": 4,
   "metadata": {
    "ExecuteTime": {
     "end_time": "2021-02-25T23:41:09.164104Z",
     "start_time": "2021-02-25T23:41:08.205079Z"
    },
    "execution": {
     "iopub.execute_input": "2021-02-26T19:37:52.409236Z",
     "iopub.status.busy": "2021-02-26T19:37:52.407242Z",
     "iopub.status.idle": "2021-02-26T19:37:52.422198Z",
     "shell.execute_reply": "2021-02-26T19:37:52.421202Z",
     "shell.execute_reply.started": "2021-02-26T19:37:52.408239Z"
    },
    "executionInfo": {
     "elapsed": 14687,
     "status": "ok",
     "timestamp": 1614358250168,
     "user": {
      "displayName": "Damian Muñoz Moller",
      "photoUrl": "",
      "userId": "17476576502820085573"
     },
     "user_tz": 180
    },
    "id": "WSOO1zToqOpr"
   },
   "outputs": [],
   "source": [
    "num_qubits = 1\n",
    "opt = SPSA( a=2, c=0.1 )\n",
    "max_iterations = 300"
   ]
  },
  {
   "cell_type": "code",
   "execution_count": 5,
   "metadata": {
    "ExecuteTime": {
     "end_time": "2021-02-25T23:41:09.242765Z",
     "start_time": "2021-02-25T23:41:09.172812Z"
    },
    "execution": {
     "iopub.execute_input": "2021-02-26T19:37:52.423196Z",
     "iopub.status.busy": "2021-02-26T19:37:52.422198Z",
     "iopub.status.idle": "2021-02-26T19:37:52.480037Z",
     "shell.execute_reply": "2021-02-26T19:37:52.480037Z",
     "shell.execute_reply.started": "2021-02-26T19:37:52.423196Z"
    },
    "executionInfo": {
     "elapsed": 14676,
     "status": "ok",
     "timestamp": 1614358250169,
     "user": {
      "displayName": "Damian Muñoz Moller",
      "photoUrl": "",
      "userId": "17476576502820085573"
     },
     "user_tz": 180
    },
    "id": "pxzdU6X6qOpt"
   },
   "outputs": [],
   "source": [
    "dev_an = qml.device(\"default.qubit\", wires=num_qubits, analytic=True)\n",
    "dev_st = qml.device(\"default.qubit\", wires=num_qubits, analytic=False, shots = 1e7)"
   ]
  },
  {
   "cell_type": "markdown",
   "metadata": {},
   "source": [
    "We will perform the quantum tomography of the unknown state $|1\\rangle$."
   ]
  },
  {
   "cell_type": "code",
   "execution_count": 6,
   "metadata": {
    "ExecuteTime": {
     "end_time": "2021-02-25T23:41:09.301041Z",
     "start_time": "2021-02-25T23:41:09.250670Z"
    },
    "execution": {
     "iopub.execute_input": "2021-02-26T19:37:52.482032Z",
     "iopub.status.busy": "2021-02-26T19:37:52.481034Z",
     "iopub.status.idle": "2021-02-26T19:37:52.487018Z",
     "shell.execute_reply": "2021-02-26T19:37:52.486024Z",
     "shell.execute_reply.started": "2021-02-26T19:37:52.482032Z"
    },
    "executionInfo": {
     "elapsed": 14670,
     "status": "ok",
     "timestamp": 1614358250169,
     "user": {
      "displayName": "Damian Muñoz Moller",
      "photoUrl": "",
      "userId": "17476576502820085573"
     },
     "user_tz": 180
    },
    "id": "1frGeP2JqOpt"
   },
   "outputs": [],
   "source": [
    "def Unknown_State(n_wires):\n",
    "    qml.PauliX(wires = range(n_wires))"
   ]
  },
  {
   "cell_type": "markdown",
   "metadata": {},
   "source": [
    "We will employ an arbitrary rotation as variational form."
   ]
  },
  {
   "cell_type": "code",
   "execution_count": 7,
   "metadata": {
    "ExecuteTime": {
     "end_time": "2021-02-25T23:41:09.369144Z",
     "start_time": "2021-02-25T23:41:09.305971Z"
    },
    "execution": {
     "iopub.execute_input": "2021-02-26T19:37:52.489014Z",
     "iopub.status.busy": "2021-02-26T19:37:52.489014Z",
     "iopub.status.idle": "2021-02-26T19:37:52.494995Z",
     "shell.execute_reply": "2021-02-26T19:37:52.494995Z",
     "shell.execute_reply.started": "2021-02-26T19:37:52.489014Z"
    },
    "executionInfo": {
     "elapsed": 14661,
     "status": "ok",
     "timestamp": 1614358250170,
     "user": {
      "displayName": "Damian Muñoz Moller",
      "photoUrl": "",
      "userId": "17476576502820085573"
     },
     "user_tz": 180
    },
    "id": "4ULRQgsFqOpv"
   },
   "outputs": [],
   "source": [
    "def Variational_circuit(params, n_wires):\n",
    "    qml.broadcast( qml.Rot, wires= range(n_wires), pattern=\"single\", parameters = params ) "
   ]
  },
  {
   "cell_type": "code",
   "execution_count": 8,
   "metadata": {
    "ExecuteTime": {
     "end_time": "2021-02-25T23:41:09.437243Z",
     "start_time": "2021-02-25T23:41:09.372198Z"
    },
    "execution": {
     "iopub.execute_input": "2021-02-26T19:37:52.496990Z",
     "iopub.status.busy": "2021-02-26T19:37:52.495993Z",
     "iopub.status.idle": "2021-02-26T19:37:52.507959Z",
     "shell.execute_reply": "2021-02-26T19:37:52.506963Z",
     "shell.execute_reply.started": "2021-02-26T19:37:52.496990Z"
    },
    "executionInfo": {
     "elapsed": 14655,
     "status": "ok",
     "timestamp": 1614358250171,
     "user": {
      "displayName": "Damian Muñoz Moller",
      "photoUrl": "",
      "userId": "17476576502820085573"
     },
     "user_tz": 180
    },
    "id": "ZBCT9RjeqOpw"
   },
   "outputs": [],
   "source": [
    "# Pauli Matrices\n",
    "\n",
    "Paulis = np.zeros((3, 2, 2), dtype=complex)\n",
    "Paulis[0] = [[0, 1], [1, 0]]\n",
    "Paulis[1] = [[0, -1j], [1j, 0]]\n",
    "Paulis[2] = [[1, 0], [0, -1]]\n",
    "\n",
    "# Bloch vector function using the expectation values of the Pauli Matrices\n",
    "\n",
    "def BlochVec(n_wires, params):\n",
    "    bloch_vector = []\n",
    "    for k in range(3):\n",
    "        bloch_k = PauliExp(n_wires, params, A=Paulis[k])\n",
    "        bloch_k = bloch_k.numpy()\n",
    "        bloch_vector.append(bloch_k)\n",
    "    return bloch_vector"
   ]
  },
  {
   "cell_type": "code",
   "execution_count": 9,
   "metadata": {
    "ExecuteTime": {
     "end_time": "2021-02-25T23:41:09.531691Z",
     "start_time": "2021-02-25T23:41:09.452703Z"
    },
    "execution": {
     "iopub.execute_input": "2021-02-26T19:37:52.510950Z",
     "iopub.status.busy": "2021-02-26T19:37:52.509954Z",
     "iopub.status.idle": "2021-02-26T19:37:52.528901Z",
     "shell.execute_reply": "2021-02-26T19:37:52.528901Z",
     "shell.execute_reply.started": "2021-02-26T19:37:52.510950Z"
    },
    "executionInfo": {
     "elapsed": 14648,
     "status": "ok",
     "timestamp": 1614358250171,
     "user": {
      "displayName": "Damian Muñoz Moller",
      "photoUrl": "",
      "userId": "17476576502820085573"
     },
     "user_tz": 180
    },
    "id": "fZJKhJorqOpx"
   },
   "outputs": [],
   "source": [
    "# Analitic fidelity\n",
    "\n",
    "@qml.qnode(dev_an)\n",
    "def Fidelity_analytic(params):\n",
    "    n_wires = dev_an.num_wires\n",
    "    Unknown_State(n_wires)\n",
    "    Variational_circuit(params, n_wires)\n",
    "    return qml.probs(wires= range(n_wires))\n",
    "\n",
    "# Pauli matrices expectation values\n",
    "\n",
    "@qml.qnode(dev_an)\n",
    "def PauliExp(n_wires, params, A=None):\n",
    "    Variational_circuit(params, n_wires)\n",
    "    # returns the expectation of the input matrix A\n",
    "    return qml.expval(qml.Hermitian(A, wires = range(n_wires)))\n",
    "\n",
    "# Stochastic fidelity\n",
    "\n",
    "@qml.qnode(dev_st)\n",
    "def Fidelity_stochastic(params):\n",
    "    n_wires = dev_st.num_wires\n",
    "    Unknown_State(n_wires)\n",
    "    Variational_circuit(params, n_wires)\n",
    "    return qml.probs(wires=range(n_wires))"
   ]
  },
  {
   "cell_type": "code",
   "execution_count": 10,
   "metadata": {
    "ExecuteTime": {
     "end_time": "2021-02-25T23:41:09.604311Z",
     "start_time": "2021-02-25T23:41:09.541066Z"
    },
    "execution": {
     "iopub.execute_input": "2021-02-26T19:37:52.530896Z",
     "iopub.status.busy": "2021-02-26T19:37:52.530896Z",
     "iopub.status.idle": "2021-02-26T19:37:52.536881Z",
     "shell.execute_reply": "2021-02-26T19:37:52.535884Z",
     "shell.execute_reply.started": "2021-02-26T19:37:52.530896Z"
    },
    "executionInfo": {
     "elapsed": 14630,
     "status": "ok",
     "timestamp": 1614358250172,
     "user": {
      "displayName": "Damian Muñoz Moller",
      "photoUrl": "",
      "userId": "17476576502820085573"
     },
     "user_tz": 180
    },
    "id": "Ku6XEwo0qOpy"
   },
   "outputs": [],
   "source": [
    "#Initial parameters\n",
    "\n",
    "params = 0.000001*np.ones((num_qubits, 3))\n",
    "\n",
    "# Cost functions\n",
    "\n",
    "fun_an    = lambda params : 1 - Fidelity_analytic(params)[0]\n",
    "fun_st    = lambda params : 1 - Fidelity_stochastic(params)[0]"
   ]
  },
  {
   "cell_type": "code",
   "execution_count": null,
   "metadata": {
    "ExecuteTime": {
     "end_time": "2021-02-25T23:45:49.057953Z",
     "start_time": "2021-02-25T23:41:09.612710Z"
    },
    "colab": {
     "base_uri": "https://localhost:8080/"
    },
    "execution": {
     "iopub.execute_input": "2021-02-26T19:37:52.540869Z",
     "iopub.status.busy": "2021-02-26T19:37:52.540869Z"
    },
    "executionInfo": {
     "elapsed": 58,
     "status": "ok",
     "timestamp": 1614358754348,
     "user": {
      "displayName": "Damian Muñoz Moller",
      "photoUrl": "",
      "userId": "17476576502820085573"
     },
     "user_tz": 180
    },
    "id": "xVC2POaeqOp1",
    "outputId": "754b3c4a-0416-42c4-90a2-2c8a02083832"
   },
   "outputs": [],
   "source": [
    "infids_an = []\n",
    "infids_st = []\n",
    "params_list = []\n",
    "\n",
    "\n",
    "for n in range(max_iterations):\n",
    "    params_list.append(params)\n",
    "    params = opt.step( fun_st, params, n )\n",
    "    infids_an.append( fun_an(params) )\n",
    "    infids_st.append( fun_st(params) )\n",
    "\n",
    "print()\n",
    "print( 'Final Fidelity = ', 1-infids_an[-1] )\n",
    "print()\n",
    "\n",
    "infids_an = np.array(infids_an)\n",
    "infids_st = np.array(infids_st)"
   ]
  },
  {
   "cell_type": "code",
   "execution_count": null,
   "metadata": {
    "ExecuteTime": {
     "end_time": "2021-02-25T23:45:50.066382Z",
     "start_time": "2021-02-25T23:45:49.063613Z"
    },
    "colab": {
     "base_uri": "https://localhost:8080/",
     "height": 295
    },
    "executionInfo": {
     "elapsed": 961,
     "status": "ok",
     "timestamp": 1614359372616,
     "user": {
      "displayName": "Damian Muñoz Moller",
      "photoUrl": "",
      "userId": "17476576502820085573"
     },
     "user_tz": 180
    },
    "id": "H9zFSR41qOp5",
    "outputId": "67891275-6a7c-43bf-a182-04f0fc066a27"
   },
   "outputs": [],
   "source": [
    "plt.plot( infids_an , label='Analitic Result')\n",
    "plt.yscale('log')\n",
    "ylim = min( 0.01, plt.axis()[2] )\n",
    "infids_st[infids_st<ylim] = ylim\n",
    "plt.plot( infids_st , 'x', label='Stochastic Result')\n",
    "plt.title('Infidelity for every iteration')\n",
    "plt.xlabel('Iterations')\n",
    "plt.ylabel('Infidelity')\n",
    "plt.grid()"
   ]
  },
  {
   "cell_type": "markdown",
   "metadata": {},
   "source": [
    "The states of a qubits can be represented visually in the Bloch sphere. Therefore, for the case of the qubit we can over the sphere the evolution of the algorithm."
   ]
  },
  {
   "cell_type": "code",
   "execution_count": null,
   "metadata": {
    "executionInfo": {
     "elapsed": 2519,
     "status": "ok",
     "timestamp": 1614358756837,
     "user": {
      "displayName": "Damian Muñoz Moller",
      "photoUrl": "",
      "userId": "17476576502820085573"
     },
     "user_tz": 180
    },
    "id": "LNGeBfLr1FyU"
   },
   "outputs": [],
   "source": [
    "\r\n",
    "Vec_List = []\r\n",
    "\r\n",
    "for i in range(len(params_list    :\r\n",
    "  b_vec = BlochVec(num_qubits, params_list[i  ])\r\n",
    "  Vec_List.append(b_vec)"
   ]
  },
  {
   "cell_type": "code",
   "execution_count": null,
   "metadata": {
    "executionInfo": {
     "elapsed": 14,
     "status": "ok",
     "timestamp": 1614358756839,
     "user": {
      "displayName": "Damian Muñoz Moller",
      "photoUrl": "",
      "userId": "17476576502820085573"
     },
     "user_tz": 180
    },
    "id": "CUWKqv6f7peh"
   },
   "outputs": [],
   "source": [
    "# x,y,z components of the Bloch Vector for every iteration\r\n",
    "\r\n",
    "x_vec = []\r\n",
    "y_vec = []\r\n",
    "z_vec = []\r\n",
    "\r\n",
    "\r\n",
    "for i in range(len(Vec_L    t)):\r\n",
    "  x = Vec_List[  i][0]\r\n",
    "  y = Vec_List  [i][1]\r\n",
    "  z = Vec_Lis  t[i][2]\r\n",
    "  x_vec.a  ppend(x)\r\n",
    "  y_vec.  append(y)\r\n",
    "  z_vec.append(z)"
   ]
  },
  {
   "cell_type": "code",
   "execution_count": null,
   "metadata": {
    "colab": {
     "base_uri": "https://localhost:8080/",
     "height": 391
    },
    "executionInfo": {
     "elapsed": 1761,
     "status": "ok",
     "timestamp": 1614358758594,
     "user": {
      "displayName": "Damian Muñoz Moller",
      "photoUrl": "",
      "userId": "17476576502820085573"
     },
     "user_tz": 180
    },
    "id": "ynPE_WuW8-KV",
    "outputId": "a7ecc397-d23f-4ae8-ea8c-b3fdc561b96f"
   },
   "outputs": [],
   "source": [
    "# Plotting on the Bloch sphere using qutip.Bloch class\r\n",
    "\r\n",
    "b1 = qp.Bloch()\r\n",
    "b1.add_points([x_vec, y_vec, z_vec])\r\n",
    "b1.show()"
   ]
  },
  {
   "cell_type": "code",
   "execution_count": null,
   "metadata": {
    "colab": {
     "base_uri": "https://localhost:8080/",
     "height": 391
    },
    "executionInfo": {
     "elapsed": 24,
     "status": "ok",
     "timestamp": 1614358758595,
     "user": {
      "displayName": "Damian Muñoz Moller",
      "photoUrl": "",
      "userId": "17476576502820085573"
     },
     "user_tz": 180
    },
    "id": "oRYkSYVi8uiz",
    "outputId": "f443cf58-3c8c-4567-e784-9fe4ef161679"
   },
   "outputs": [],
   "source": [
    "b2 = qp.Bloch()\r\n",
    "b2.add_points([x_vec, y_vec, z_vec], meth='l')\r\n",
    "b2.show()"
   ]
  }
 ],
 "metadata": {
  "colab": {
   "collapsed_sections": [],
   "name": "1 Qubit Tomography with Bloch Sphere visualization.ipynb",
   "provenance": []
  },
  "kernelspec": {
   "display_name": "Python 3",
   "language": "python",
   "name": "python3"
  },
  "language_info": {
   "codemirror_mode": {
    "name": "ipython",
    "version": 3
   },
   "file_extension": ".py",
   "mimetype": "text/x-python",
   "name": "python",
   "nbconvert_exporter": "python",
   "pygments_lexer": "ipython3",
   "version": "3.7.7"
  }
 },
 "nbformat": 4,
 "nbformat_minor": 4
}
